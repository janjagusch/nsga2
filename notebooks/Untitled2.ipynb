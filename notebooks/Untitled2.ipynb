{
 "cells": [
  {
   "cell_type": "code",
   "execution_count": 1,
   "metadata": {},
   "outputs": [],
   "source": [
    "import json\n",
    "from copy import copy\n",
    "import matplotlib as mpl\n",
    "import matplotlib.pyplot as plt\n",
    "from formation_map import make_formation"
   ]
  },
  {
   "cell_type": "code",
   "execution_count": 2,
   "metadata": {},
   "outputs": [],
   "source": [
    "with open(\"../input/formations.json\") as f:\n",
    "    data = json.load(f)"
   ]
  },
  {
   "cell_type": "code",
   "execution_count": 3,
   "metadata": {},
   "outputs": [
    {
     "data": {
      "text/plain": [
       "Formation(slots={'GK': Slot(id=GK, position=Position(id=GK), player=None), 'CB1': Slot(id=CB1, position=Position(id=CB), player=None), 'CB2': Slot(id=CB2, position=Position(id=CB), player=None), 'CB3': Slot(id=CB3, position=Position(id=CB), player=None), 'LM': Slot(id=LM, position=Position(id=LM), player=None), 'CM1': Slot(id=CM1, position=Position(id=CM), player=None), 'CDM': Slot(id=CDM, position=Position(id=CDM), player=None), 'CM2': Slot(id=CM2, position=Position(id=CM), player=None), 'RM': Slot(id=RM, position=Position(id=RM), player=None), 'ST1': Slot(id=ST1, position=Position(id=ST), player=None), 'ST2': Slot(id=ST2, position=Position(id=ST), player=None)}, links=[Link(slot_1=GK, slot_2=CB1), Link(slot_1=GK, slot_2=CB2), Link(slot_1=GK, slot_2=CB3), Link(slot_1=CB1, slot_2=CB2), Link(slot_1=CB2, slot_2=CB3), Link(slot_1=CB1, slot_2=LM), Link(slot_1=CB1, slot_2=CDM), Link(slot_1=CB2, slot_2=CDM), Link(slot_1=CB3, slot_2=CDM), Link(slot_1=CB3, slot_2=RM), Link(slot_1=LM, slot_2=CM1), Link(slot_1=CM1, slot_2=CDM), Link(slot_1=CDM, slot_2=CM2), Link(slot_1=CM2, slot_2=RM), Link(slot_1=LM, slot_2=ST1), Link(slot_1=CM1, slot_2=ST1), Link(slot_1=CM2, slot_2=ST2), Link(slot_1=RM, slot_2=ST2), Link(slot_1=ST1, slot_2=ST2)])"
      ]
     },
     "execution_count": 3,
     "metadata": {},
     "output_type": "execute_result"
    }
   ],
   "source": [
    "make_formation(**data[\"3-1-4-2\"])"
   ]
  },
  {
   "cell_type": "code",
   "execution_count": 41,
   "metadata": {},
   "outputs": [],
   "source": [
    "SLOT_HEIGHT = 0.2\n",
    "SLOT_WIDTH = 0.1\n",
    "PITCH_WIDTH = 30\n",
    "PITCH_HEIGHT = 20\n",
    "CIRCLE_RADIUS = 0.2\n",
    "BOX_WIDTH = 0.4\n",
    "BOX_HEIGHT = 0.3\n",
    "green = \"#53843f\""
   ]
  },
  {
   "cell_type": "code",
   "execution_count": 44,
   "metadata": {},
   "outputs": [],
   "source": [
    "cirlce_kwargs = {\n",
    "    \"xy\": (PITCH_WIDTH/2, PITCH_HEIGHT),\n",
    "    \"radius\": CIRCLE_RADIUS * PITCH_WIDTH,\n",
    "    \"fill\": False,\n",
    "    \"edgecolor\": \"white\",\n",
    "    \"linewidth\": 5,\n",
    "    \"zorder\":0\n",
    "}\n",
    "\n",
    "def make_circle():\n",
    "    return mpl.patches.Circle(**cirlce_kwargs)"
   ]
  },
  {
   "cell_type": "code",
   "execution_count": 45,
   "metadata": {},
   "outputs": [],
   "source": [
    "box_kwargs = {\n",
    "    \"xy\": (PITCH_WIDTH * (1 - BOX_WIDTH) / 2, 0),\n",
    "    \"width\": BOX_WIDTH * PITCH_WIDTH,\n",
    "    \"height\": BOX_HEIGHT * PITCH_HEIGHT,\n",
    "    \"fill\": False,\n",
    "    \"edgecolor\": \"white\",\n",
    "    \"linewidth\": 5,\n",
    "    \"zorder\": 0\n",
    "}\n",
    "\n",
    "def make_box():\n",
    "    return mpl.patches.Rectangle(**box_kwargs)"
   ]
  },
  {
   "cell_type": "code",
   "execution_count": 47,
   "metadata": {},
   "outputs": [],
   "source": [
    "def make_field(ax=None):\n",
    "    if not ax:\n",
    "        ax = plt.gca()\n",
    "    ax.set_facecolor(green)\n",
    "    ax.set_xticks([])\n",
    "    ax.set_yticks([])\n",
    "    ax.add_patch(make_circle())\n",
    "    ax.add_patch(make_box())\n",
    "    for d in [\"bottom\", \"top\", \"left\", \"right\"]:\n",
    "        ax.spines[d].set_color(\"white\")\n",
    "        ax.spines[d].set_linewidth(5)\n",
    "    ax.axis(\"square\")\n",
    "    ax.set_ylim(0, PITCH_HEIGHT)\n",
    "    ax.set_xlim(0, PITCH_WIDTH)"
   ]
  },
  {
   "cell_type": "code",
   "execution_count": 54,
   "metadata": {},
   "outputs": [
    {
     "data": {
      "image/png": "[encoded data removed]",
      "text/plain": [
       "<Figure size 432x288 with 1 Axes>"
      ]
     },
     "metadata": {},
     "output_type": "display_data"
    }
   ],
   "source": [
    "make_field()"
   ]
  },
  {
   "cell_type": "code",
   "execution_count": null,
   "metadata": {},
   "outputs": [],
   "source": []
  },
  {
   "cell_type": "code",
   "execution_count": null,
   "metadata": {},
   "outputs": [],
   "source": []
  }
 ],
 "metadata": {
  "kernelspec": {
   "display_name": "base",
   "language": "python",
   "name": "base"
  },
  "language_info": {
   "codemirror_mode": {
    "name": "ipython",
    "version": 3
   },
   "file_extension": ".py",
   "mimetype": "text/x-python",
   "name": "python",
   "nbconvert_exporter": "python",
   "pygments_lexer": "ipython3",
   "version": "3.6.5"
  }
 },
 "nbformat": 4,
 "nbformat_minor": 2
}
