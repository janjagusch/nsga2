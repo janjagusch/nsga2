{
 "cells": [
  {
   "cell_type": "code",
   "execution_count": 1,
   "metadata": {},
   "outputs": [],
   "source": [
    "import pickle\n",
    "import sys\n",
    "sys.path.append(\"..\")\n",
    "\n",
    "import matplotlib.pyplot as plt\n",
    "import numpy as np\n",
    "import pandas as pd\n",
    "\n",
    "from nsga2.examples.fifa_ultimate_team.crossover import SquadCrossover\n",
    "from nsga2.examples.fifa_ultimate_team.genotype import Squad\n",
    "from nsga2.examples.fifa_ultimate_team.initializer import SquadInitializer\n",
    "from nsga2.examples.fifa_ultimate_team.mutator import SquadMutator\n",
    "from nsga2.examples.fifa_ultimate_team.stopper import SquadStopper\n",
    "from nsga2.nsga2.evaluator import Evaluator\n",
    "from nsga2.nsga2.nsga2 import NSGA2\n",
    "from nsga2.nsga2.selector import TournamentSelector\n",
    "from nsga2.nsga2.stopper import MaxGenerationStopper"
   ]
  },
  {
   "cell_type": "code",
   "execution_count": 2,
   "metadata": {},
   "outputs": [],
   "source": [
    "with open(\"../data/processed/players.p\", \"rb\") as file_pointer:\n",
    "    players = pickle.load(file_pointer)"
   ]
  },
  {
   "cell_type": "code",
   "execution_count": 3,
   "metadata": {},
   "outputs": [
    {
     "ename": "ModuleNotFoundError",
     "evalue": "No module named 'fut_squad_evolver'",
     "output_type": "error",
     "traceback": [
      "\u001b[0;31m---------------------------------------------------------------------------\u001b[0m",
      "\u001b[0;31mModuleNotFoundError\u001b[0m                       Traceback (most recent call last)",
      "\u001b[0;32m<ipython-input-3-d59fe5efebec>\u001b[0m in \u001b[0;36m<module>\u001b[0;34m\u001b[0m\n\u001b[1;32m      1\u001b[0m \u001b[0;32mwith\u001b[0m \u001b[0mopen\u001b[0m\u001b[0;34m(\u001b[0m\u001b[0;34m\"../data/processed/formations.p\"\u001b[0m\u001b[0;34m,\u001b[0m \u001b[0;34m\"rb\"\u001b[0m\u001b[0;34m)\u001b[0m \u001b[0;32mas\u001b[0m \u001b[0mfile_pointer\u001b[0m\u001b[0;34m:\u001b[0m\u001b[0;34m\u001b[0m\u001b[0;34m\u001b[0m\u001b[0m\n\u001b[0;32m----> 2\u001b[0;31m     \u001b[0mformations\u001b[0m \u001b[0;34m=\u001b[0m \u001b[0mpickle\u001b[0m\u001b[0;34m.\u001b[0m\u001b[0mload\u001b[0m\u001b[0;34m(\u001b[0m\u001b[0mfile_pointer\u001b[0m\u001b[0;34m)\u001b[0m\u001b[0;34m\u001b[0m\u001b[0;34m\u001b[0m\u001b[0m\n\u001b[0m",
      "\u001b[0;31mModuleNotFoundError\u001b[0m: No module named 'fut_squad_evolver'"
     ]
    }
   ],
   "source": [
    "with open(\"../data/processed/formations.p\", \"rb\") as file_pointer:\n",
    "    formations = pickle.load(file_pointer)"
   ]
  },
  {
   "cell_type": "code",
   "execution_count": null,
   "metadata": {},
   "outputs": [],
   "source": [
    "players = players[(players[\"price\"] > 0) & (players[\"metal\"] == \"Gold\") & (players[\"revision\"] == \"Normal\")]\n",
    "formation = formations[\"541\"]\n",
    "greater_is_better_dict = {\"price\": False, \"overall\": True, \"chemistry\": True}"
   ]
  },
  {
   "cell_type": "code",
   "execution_count": null,
   "metadata": {},
   "outputs": [],
   "source": [
    "formation.labels"
   ]
  },
  {
   "cell_type": "code",
   "execution_count": null,
   "metadata": {},
   "outputs": [],
   "source": [
    "locked_players = {2: 195, 10: 271}"
   ]
  },
  {
   "cell_type": "code",
   "execution_count": null,
   "metadata": {},
   "outputs": [],
   "source": [
    "initializer = SquadInitializer(1000, formation, players, 2, locked_players=locked_players)\n",
    "evaluator = Evaluator(non_dominated_sorter_kwargs={\"greater_is_better_dict\": greater_is_better_dict, \"max_n_obs\": 100}, crowding_distance_sorter_kwargs={\"greater_is_better_dict\": greater_is_better_dict})\n",
    "selector = TournamentSelector()\n",
    "crossover = SquadCrossover(0.2)\n",
    "mutator = SquadMutator(players, 2, 0.75, 0.7, 0.0, 0.3)\n",
    "stopper = SquadStopper(max_price=60000, min_overall=82, min_chemistry=90)\n",
    "\n",
    "nsga2 = NSGA2(initializer, evaluator, selector, crossover, mutator, stopper)"
   ]
  },
  {
   "cell_type": "code",
   "execution_count": null,
   "metadata": {},
   "outputs": [],
   "source": [
    "population = nsga2.search()"
   ]
  },
  {
   "cell_type": "code",
   "execution_count": null,
   "metadata": {},
   "outputs": [],
   "source": [
    "len(nsga2.population_log)"
   ]
  },
  {
   "cell_type": "code",
   "execution_count": null,
   "metadata": {},
   "outputs": [],
   "source": [
    "eval_df = []\n",
    "for i, pop in enumerate(nsga2.population_log):\n",
    "    for individual in pop.values():\n",
    "        temp_dict = individual.phenotype\n",
    "        temp_dict[\"pareto_front\"] = individual.fitness[\"pareto_front\"] if individual.fitness != {} else None\n",
    "        temp_dict[\"generation\"] = i\n",
    "        eval_df.append(temp_dict)\n",
    "eval_df = pd.DataFrame(eval_df)\n",
    "eval_df[\"performance_ratio\"] = eval_df[\"overall\"] * eval_df[\"chemistry\"] / eval_df[\"price\"]"
   ]
  },
  {
   "cell_type": "code",
   "execution_count": null,
   "metadata": {},
   "outputs": [],
   "source": [
    "evaluation = eval_df.groupby(\"generation\").agg({\"price\": [\"min\", \"mean\", \"max\"], \"overall\": [\"min\", \"mean\", \"max\"], \"chemistry\": [\"min\", \"mean\", \"max\"], \"performance_ratio\": [\"min\", \"mean\", \"max\"]})"
   ]
  },
  {
   "cell_type": "code",
   "execution_count": null,
   "metadata": {},
   "outputs": [],
   "source": [
    "fig = plt.figure()\n",
    "ax = fig.gca()\n",
    "\n",
    "evaluation[\"performance_ratio\"].plot(ax=ax)\n",
    "ax.set_ylim(0, 1)"
   ]
  },
  {
   "cell_type": "code",
   "execution_count": null,
   "metadata": {},
   "outputs": [],
   "source": [
    "evaluation_0 = eval_df[eval_df[\"pareto_front\"] == 0].groupby(\"generation\").agg({\"price\": [\"min\", \"mean\", \"max\"], \"overall\": [\"min\", \"mean\", \"max\"], \"chemistry\": [\"min\", \"mean\", \"max\"]})"
   ]
  },
  {
   "cell_type": "code",
   "execution_count": null,
   "metadata": {},
   "outputs": [],
   "source": [
    "evaluation_0[\"overall\"].plot()"
   ]
  },
  {
   "cell_type": "code",
   "execution_count": null,
   "metadata": {},
   "outputs": [],
   "source": [
    "pd.DataFrame([individual.phenotype for individual in population.values() if \n",
    "              (individual.fitness != {} and individual.fitness[\"pareto_front\"] == 0)\\\n",
    "              and individual.phenotype[\"overall\"] >= 80 \\\n",
    "              and individual.phenotype[\"chemistry\"] >= 90]).sort_values(\"price\").head(40)"
   ]
  },
  {
   "cell_type": "code",
   "execution_count": null,
   "metadata": {},
   "outputs": [],
   "source": [
    "my_genotype = [individual for individual in population.values() if individual.individual_id == 41457][0].genotype"
   ]
  },
  {
   "cell_type": "code",
   "execution_count": null,
   "metadata": {},
   "outputs": [],
   "source": [
    "print(my_genotype)"
   ]
  },
  {
   "cell_type": "code",
   "execution_count": null,
   "metadata": {},
   "outputs": [],
   "source": []
  }
 ],
 "metadata": {
  "kernelspec": {
   "display_name": "Python 3",
   "language": "python",
   "name": "python3"
  },
  "language_info": {
   "codemirror_mode": {
    "name": "ipython",
    "version": 3
   },
   "file_extension": ".py",
   "mimetype": "text/x-python",
   "name": "python",
   "nbconvert_exporter": "python",
   "pygments_lexer": "ipython3",
   "version": "3.6.7"
  }
 },
 "nbformat": 4,
 "nbformat_minor": 2
}
