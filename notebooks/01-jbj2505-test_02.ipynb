{
 "cells": [
  {
   "cell_type": "code",
   "execution_count": 36,
   "metadata": {},
   "outputs": [],
   "source": [
    "import numpy as np\n",
    "import matplotlib.pyplot as plt\n",
    "import bs4 as bs\n"
   ]
  },
  {
   "cell_type": "code",
   "execution_count": 2,
   "metadata": {},
   "outputs": [],
   "source": [
    "with open(\"input/chart.svg\", \"r\") as f:\n",
    "    xml = f.read() "
   ]
  },
  {
   "cell_type": "code",
   "execution_count": 4,
   "metadata": {},
   "outputs": [],
   "source": [
    "soup = bs.BeautifulSoup(xml, \"lxml\")"
   ]
  },
  {
   "cell_type": "code",
   "execution_count": 28,
   "metadata": {},
   "outputs": [
    {
     "data": {
      "text/plain": [
       "str"
      ]
     },
     "execution_count": 28,
     "metadata": {},
     "output_type": "execute_result"
    }
   ],
   "source": [
    "type(\"L\")"
   ]
  },
  {
   "cell_type": "code",
   "execution_count": 78,
   "metadata": {},
   "outputs": [],
   "source": [
    "for s in soup.find_all(\"g\", class_=\"highcharts-series\"):\n",
    "    coordinates = s.find(\"path\")[\"d\"].split(\" \")[1:]\n",
    "    coordinates = [c for c in coordinates if c != \"L\"]\n",
    "    x = np.array(coordinates[::2], dtype=float)\n",
    "    y = np.array(coordinates[1::2], dtype=float)"
   ]
  },
  {
   "cell_type": "code",
   "execution_count": 58,
   "metadata": {},
   "outputs": [],
   "source": [
    "yaxis = soup.find(\"g\", class_=\"highcharts-axis-labels highcharts-yaxis-labels\").find_all(\"text\")"
   ]
  },
  {
   "cell_type": "code",
   "execution_count": 66,
   "metadata": {},
   "outputs": [],
   "source": [
    "y_scaling = []\n",
    "\n",
    "for y in yaxis[:-1]:\n",
    "    y_scaling.append((int(y[\"y\"]), int(y.text.strip(\"M\"))))"
   ]
  },
  {
   "cell_type": "code",
   "execution_count": 67,
   "metadata": {},
   "outputs": [
    {
     "data": {
      "text/plain": [
       "[(284, 0), (224, 5), (164, 10), (103, 15)]"
      ]
     },
     "execution_count": 67,
     "metadata": {},
     "output_type": "execute_result"
    }
   ],
   "source": [
    "y_scaling"
   ]
  },
  {
   "cell_type": "code",
   "execution_count": 68,
   "metadata": {},
   "outputs": [],
   "source": [
    "# f(284) = 0\n",
    "# f(224) = 5\n",
    "\n",
    "# f(x) = mx + b"
   ]
  },
  {
   "cell_type": "code",
   "execution_count": 69,
   "metadata": {},
   "outputs": [],
   "source": [
    "# m*284 + b = 0\n",
    "# m*224 + b = 5\n",
    "# m*60 = -5\n",
    "# m = -5/60 = -1/12\n",
    "# b = 71/3"
   ]
  },
  {
   "cell_type": "code",
   "execution_count": 79,
   "metadata": {},
   "outputs": [],
   "source": [
    "def calculate_price(y_val):\n",
    "    return -1/12 * y_val + 71/3"
   ]
  },
  {
   "cell_type": "code",
   "execution_count": 80,
   "metadata": {},
   "outputs": [
    {
     "data": {
      "text/plain": [
       "array([ 3.58333333,  3.58333333,  3.58333333,  3.58333333,  3.58333333,\n",
       "        3.58333333,  3.58333333,  3.58333333,  3.58333333,  3.58333333,\n",
       "       18.64583333,  3.58333333,  3.58333333,  3.58333333,  3.58333333,\n",
       "        3.58333333,  3.58333333, 18.64583333,  3.58333333,  3.58333333,\n",
       "        3.58333333, 10.70354478, 14.72958333, 10.41166667,  3.58333333,\n",
       "        3.58333333,  3.58333333,  3.58333333,  3.58333333,  3.58333333,\n",
       "        3.58333333,  3.58333333,  3.58333333,  3.58333333,  3.58333333,\n",
       "        3.58333333,  3.58333333,  3.58333333,  3.58333333,  3.58333333,\n",
       "       13.625     , 11.61666667, 11.61666667,  3.58333333,  3.58333333,\n",
       "        3.58333333,  3.58333333,  3.58333333, 18.14375   ,  3.58333333,\n",
       "       18.60399272, 17.44083333, 18.36689792, 17.1683497 , 17.23087112,\n",
       "       14.66502948, 12.97028333, 12.62996221, 12.52041667,  3.58333333,\n",
       "       11.365625  ,  3.58333333, 12.3145625 , 12.3145625 , 11.27955386,\n",
       "        3.58333333, 10.77986145, 18.64583333, 13.29027811, 18.64583333,\n",
       "       18.64583333, 18.64583333, 18.64583333, 18.42268541, 16.13541667,\n",
       "       13.625     ,  3.58333333,  3.58333333,  3.58333333,  3.58333333])"
      ]
     },
     "execution_count": 80,
     "metadata": {},
     "output_type": "execute_result"
    }
   ],
   "source": [
    "calculate_price(y)"
   ]
  },
  {
   "cell_type": "code",
   "execution_count": null,
   "metadata": {},
   "outputs": [],
   "source": [
    "def calculate_intercept_slope(y_scaling):\n",
    "    y_intercept = y_scaling[0][0]\n",
    "    slope = ()"
   ]
  },
  {
   "cell_type": "code",
   "execution_count": 49,
   "metadata": {},
   "outputs": [
    {
     "data": {
      "text/plain": [
       "[<matplotlib.lines.Line2D at 0x1e70c866630>]"
      ]
     },
     "execution_count": 49,
     "metadata": {},
     "output_type": "execute_result"
    },
    {
     "data": {
      "image/png": "[encoded data removed]",
      "text/plain": [
       "<Figure size 432x288 with 1 Axes>"
      ]
     },
     "metadata": {},
     "output_type": "display_data"
    }
   ],
   "source": [
    "plt.plot(y)"
   ]
  },
  {
   "cell_type": "code",
   "execution_count": null,
   "metadata": {},
   "outputs": [],
   "source": []
  }
 ],
 "metadata": {
  "kernelspec": {
   "display_name": "base",
   "language": "python",
   "name": "base"
  },
  "language_info": {
   "codemirror_mode": {
    "name": "ipython",
    "version": 3
   },
   "file_extension": ".py",
   "mimetype": "text/x-python",
   "name": "python",
   "nbconvert_exporter": "python",
   "pygments_lexer": "ipython3",
   "version": "3.6.5"
  }
 },
 "nbformat": 4,
 "nbformat_minor": 2
}
