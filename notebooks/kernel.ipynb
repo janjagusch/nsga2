{
 "cells": [
  {
   "cell_type": "markdown",
   "metadata": {
    "_uuid": "b2e246d22d8dcff89f9dc8da172bff40b74a603d"
   },
   "source": [
    "# Evolving FIFA Ultimate Team Squards with Genetic Algorithms"
   ]
  },
  {
   "cell_type": "markdown",
   "metadata": {
    "_uuid": "e8a974539d584a02883a8045598bbe277cac29b0"
   },
   "source": [
    "Ever since the early 2010s, FIFA Ultimate Team (FUT) has been an integral part of the popular FIFA Football video games series (FIFA) by EA Sports. In FUT you can create your own squad of players from a pool of more than 10,000 cards, play against your friends and win online tournaments. Starting with a mediocre team, the goal is to collect prizes and trade players, so that you can eventually build the squad of your dreams. I personally played FUT excessively on FIFA 2012 and FIFA 2013 during my high school years but eventually got tired of the ever increasing emphasis on micro transactions and quit. Still, over the last years FUT has gained millions of avid fans, where large quantities of real-world currency are spent on cards."
   ]
  },
  {
   "cell_type": "markdown",
   "metadata": {
    "_uuid": "156b4597e361e8319cdd4054ff0be834bab61e45"
   },
   "source": [
    "Essentially, FUT squads are evaluated by three major criteria: rating (sum of the individual players' points), chemistry (an indicator of how well the players can collaborate, further explained in Chemistry) and price (sum of the individual players' cost). Consering the large number of unqiue cards, finding the optimal composition of players is not a trivial task."
   ]
  },
  {
   "cell_type": "markdown",
   "metadata": {
    "_uuid": "3b549d66f38cc3edd50b423b2dcef18ae76cbac9"
   },
   "source": [
    "![An example FUT squad with rating, chemistry and price.](https://raw.githubusercontent.com/jbj2505/fut-squad-evolver/master/images/fut1.png)"
   ]
  },
  {
   "cell_type": "markdown",
   "metadata": {
    "_uuid": "3935d3a4f75a761198a90784c451262f6b15daed"
   },
   "source": [
    "The goal of this project is to use Genetic Algorithms (GA) to evolve team with high rating, high chemistry and low cost."
   ]
  },
  {
   "cell_type": "markdown",
   "metadata": {
    "_uuid": "a89520e857836740f9ba42c2cc99c70369aa703b"
   },
   "source": [
    "## Setup"
   ]
  },
  {
   "cell_type": "markdown",
   "metadata": {
    "_uuid": "206699157117461c44ce62961f3d7bdcf2b974fd"
   },
   "source": [
    "We will use the common Python libraries for table operations, cacluations and visualisation. Also we will set the random number generator seed for reproducability."
   ]
  },
  {
   "cell_type": "code",
   "execution_count": 53,
   "metadata": {
    "_cell_guid": "79c7e3d0-c299-4dcb-8224-4455121ee9b0",
    "_uuid": "d629ff2d2480ee46fbb7e2d37f6b5fab8052498a"
   },
   "outputs": [],
   "source": [
    "import warnings\n",
    "import pickle\n",
    "from timeit import default_timer as now\n",
    "import copy\n",
    "import pandas as pd\n",
    "import numpy as np\n",
    "import matplotlib.pyplot as plt\n",
    "import matplotlib as mpl\n",
    "from matplotlib.cm import get_cmap"
   ]
  },
  {
   "cell_type": "code",
   "execution_count": 54,
   "metadata": {},
   "outputs": [],
   "source": [
    "cmap = get_cmap(\"viridis\")"
   ]
  },
  {
   "cell_type": "code",
   "execution_count": 52,
   "metadata": {},
   "outputs": [],
   "source": [
    "# Matplotlib default changes.\n",
    "mpl.rcParams[\"figure.facecolor\"] = \"black\"\n",
    "mpl.rcParams[\"figure.figsize\"] = (12, 10)\n",
    "mpl.rcParams[\"axes.facecolor\"] = \"black\"\n",
    "mpl.rcParams[\"axes.edgecolor\"] = \"white\"\n",
    "mpl.rcParams[\"axes.labelcolor\"] = \"white\"\n",
    "mpl.rcParams[\"font.size\"] = 14\n",
    "mpl.rcParams[\"grid.color\"] = \"white\"\n",
    "mpl.rcParams[\"savefig.facecolor\"] = \"black\"\n",
    "mpl.rcParams[\"text.color\"] = \"white\"\n",
    "mpl.rcParams[\"xtick.color\"] = \"white\"\n",
    "mpl.rcParams[\"ytick.color\"] = \"white\"\n",
    "mpl.rcParams[\"hatch.color\"] = \"white\"\n",
    "mpl.rcParams[\"lines.color\"] = \"white\"\n",
    "mpl.rcParams[\"legend.edgecolor\"] = \"none\"\n",
    "mpl.rc('animation', html='html5')"
   ]
  },
  {
   "cell_type": "code",
   "execution_count": 2,
   "metadata": {
    "_uuid": "fbe71d346348ecf9ad82653ba16b9ca8de33800b"
   },
   "outputs": [],
   "source": [
    "np.random.seed(42)"
   ]
  },
  {
   "cell_type": "markdown",
   "metadata": {
    "_uuid": "02d9937863f29baab8c99f2537eaf4bb2f3d6d44"
   },
   "source": [
    "## Creating the Game Engine"
   ]
  },
  {
   "cell_type": "markdown",
   "metadata": {
    "_uuid": "dd3381537585c927f5742202c868708412369cc9"
   },
   "source": [
    "In order to build well-performing teams, we will first need to represent the game engine and calculate the rating, chemistry and fitness for squads."
   ]
  },
  {
   "cell_type": "markdown",
   "metadata": {
    "_uuid": "d019c73d7adf4188127fcc383f80cf9480ec99a4"
   },
   "source": [
    "### Creating Positions"
   ]
  },
  {
   "cell_type": "markdown",
   "metadata": {
    "_uuid": "b207be1b426cdcfafa11d2190e42f8345592230a"
   },
   "source": [
    "First, we define all possible positions in a formation the game knows about."
   ]
  },
  {
   "cell_type": "code",
   "execution_count": 3,
   "metadata": {
    "_uuid": "c08e87b8164caa2f0b3a20ef8336bf3402069983"
   },
   "outputs": [],
   "source": [
    "_POSITIONS = [\"GK\", \n",
    "              \"RB\", \"CB\", \"LB\", \"LWB\", \"RWB\",\n",
    "              \"CDM\", \"CM\", \"CAM\", \"RM\", \"LM\",\n",
    "              \"RW\", \"LW\", \"CF\", \"RF\", \"LF\", \"ST\"\n",
    "             ]"
   ]
  },
  {
   "cell_type": "markdown",
   "metadata": {
    "_uuid": "32268db51d9dc132707d73db85bdfb90d38eaf8f"
   },
   "source": [
    "Next, we calculate the chemistry between two positions (the player's preferred position and the actual position in the formation), indicated by the following table:"
   ]
  },
  {
   "cell_type": "markdown",
   "metadata": {
    "_uuid": "1f4df6e5c17927d6a6ec4d83c53f53155bece31d"
   },
   "source": [
    "![Chemistry Table](https://www.fifauteam.com/wp-content/uploads/2013/10/A215-7E.jpg)"
   ]
  },
  {
   "cell_type": "code",
   "execution_count": 4,
   "metadata": {
    "_uuid": "8c7769afa364a7f32fa32fe4981ff4522caa12cd"
   },
   "outputs": [],
   "source": [
    "_POSITION_CHEMISTRY = {\n",
    "    (\"CB\", \"RB\"): 1,\n",
    "    (\"LB\", \"RB\"): 1,\n",
    "    (\"LB\", \"CB\"): 1,\n",
    "    (\"RWB\", \"RB\"): 2,\n",
    "    (\"LWB\", \"LB\"): 2,\n",
    "    (\"LWB\", \"RWB\"): 1,\n",
    "    (\"CDM\", \"CB\"): 1,\n",
    "    (\"CM\", \"CDM\"): 2,\n",
    "    (\"CAM\", \"CDM\"): 1,\n",
    "    (\"CAM\", \"CM\"): 2,\n",
    "    (\"RM\", \"RB\"): 1,\n",
    "    (\"RM\", \"RWB\"): 1,\n",
    "    (\"RM\", \"CM\"): 1,\n",
    "    (\"LM\", \"LB\"): 1,\n",
    "    (\"LM\", \"LWB\"): 1,\n",
    "    (\"LM\", \"CM\"): 1,\n",
    "    (\"LM\", \"RM\"): 1,\n",
    "    (\"RW\", \"RB\"): 1,\n",
    "    (\"RW\", \"RWB\"): 1,\n",
    "    (\"RW\", \"RM\"): 2,\n",
    "    (\"LW\", \"LB\"): 1,\n",
    "    (\"LW\", \"LWB\"): 1,\n",
    "    (\"LW\", \"LM\"): 2,\n",
    "    (\"LW\", \"RW\"): 1,\n",
    "    (\"CF\", \"CAM\"): 2,\n",
    "    (\"RF\", \"RM\"): 1,\n",
    "    (\"RF\", \"RW\"): 2,\n",
    "    (\"RF\", \"CF\"): 1,\n",
    "    (\"LF\", \"LM\"): 1,\n",
    "    (\"LF\", \"LW\"): 2,\n",
    "    (\"LF\", \"CF\"): 1,\n",
    "    (\"LF\", \"RF\"): 1,\n",
    "    (\"ST\", \"CF\"): 2,\n",
    "    (\"CF\", \"RF\"): 1,\n",
    "    (\"CF\", \"LF\"): 1    \n",
    "}"
   ]
  },
  {
   "cell_type": "code",
   "execution_count": 5,
   "metadata": {
    "_uuid": "0b5dfaf694a8103ed433c84569f1c88ea355b633"
   },
   "outputs": [],
   "source": [
    "def _get_position_chemistry(position_1, position_2):\n",
    "    if position_1 not in _POSITIONS or position_2 not in _POSITIONS:\n",
    "        raise IndexError\n",
    "    if position_1 == position_2:\n",
    "        return 3\n",
    "    if (position_1, position_2) in _POSITION_CHEMISTRY.keys():\n",
    "        return _POSITION_CHEMISTRY[(position_1, position_2)]\n",
    "    if (position_2, position_1) in _POSITION_CHEMISTRY.keys():\n",
    "        return _POSITION_CHEMISTRY[(position_2, position_1)]\n",
    "    return 0"
   ]
  },
  {
   "cell_type": "code",
   "execution_count": 6,
   "metadata": {
    "_uuid": "aac7256542f818175978de434702b30949c7ece8"
   },
   "outputs": [
    {
     "data": {
      "text/plain": [
       "3"
      ]
     },
     "execution_count": 6,
     "metadata": {},
     "output_type": "execute_result"
    }
   ],
   "source": [
    "_get_position_chemistry(\"LB\", \"LB\")"
   ]
  },
  {
   "cell_type": "code",
   "execution_count": 7,
   "metadata": {
    "_uuid": "1897d902ebb1ca4f4f1a0e539ce27d79bfac9119"
   },
   "outputs": [],
   "source": [
    "class Position:\n",
    "    \n",
    "    def __init__(self, id):\n",
    "        self.id = id\n",
    "        \n",
    "    def get_chemistry(self, other):\n",
    "        return _get_position_chemistry(self.id, other.id)\n",
    "    \n",
    "    def get_compatible_positions(self, min_chemistry=2):\n",
    "        compatible_positions = []\n",
    "        for position in POSITIONS.values():\n",
    "            if self.get_chemistry(position) >= min_chemistry:\n",
    "                compatible_positions.append(position)\n",
    "        return compatible_positions\n",
    "    \n",
    "    def __repr__(self):\n",
    "        return \"{}(id={})\".format(self.__class__.__name__, self.id)"
   ]
  },
  {
   "cell_type": "code",
   "execution_count": 8,
   "metadata": {
    "_uuid": "da1c943bf1fe0c055fb1169c1cb2e5511664803d"
   },
   "outputs": [
    {
     "data": {
      "text/plain": [
       "{'GK': Position(id=GK),\n",
       " 'RB': Position(id=RB),\n",
       " 'CB': Position(id=CB),\n",
       " 'LB': Position(id=LB),\n",
       " 'LWB': Position(id=LWB),\n",
       " 'RWB': Position(id=RWB),\n",
       " 'CDM': Position(id=CDM),\n",
       " 'CM': Position(id=CM),\n",
       " 'CAM': Position(id=CAM),\n",
       " 'RM': Position(id=RM),\n",
       " 'LM': Position(id=LM),\n",
       " 'RW': Position(id=RW),\n",
       " 'LW': Position(id=LW),\n",
       " 'CF': Position(id=CF),\n",
       " 'RF': Position(id=RF),\n",
       " 'LF': Position(id=LF),\n",
       " 'ST': Position(id=ST)}"
      ]
     },
     "execution_count": 8,
     "metadata": {},
     "output_type": "execute_result"
    }
   ],
   "source": [
    "POSITIONS = {p: Position(p) for p in _POSITIONS}\n",
    "POSITIONS"
   ]
  },
  {
   "cell_type": "code",
   "execution_count": 9,
   "metadata": {
    "_uuid": "5487cbe2fb527741ea18c80068915a5cbd8d46e7"
   },
   "outputs": [],
   "source": [
    "def get_positions():\n",
    "    return POSITIONS    \n",
    "    \n",
    "def get_position(position):\n",
    "    return POSITIONS[position]"
   ]
  },
  {
   "cell_type": "code",
   "execution_count": 10,
   "metadata": {
    "_uuid": "a64d1656ca306323ebc5eb6671184dc55cb1ae8d"
   },
   "outputs": [
    {
     "data": {
      "text/plain": [
       "[Position(id=CM)]"
      ]
     },
     "execution_count": 10,
     "metadata": {},
     "output_type": "execute_result"
    }
   ],
   "source": [
    "get_position(\"CM\").get_compatible_positions(3)"
   ]
  },
  {
   "cell_type": "markdown",
   "metadata": {
    "_uuid": "353c4b1630942800d96d8251124b3cd8102f9bc6"
   },
   "source": [
    "### Creating Players"
   ]
  },
  {
   "cell_type": "markdown",
   "metadata": {
    "_uuid": "316dc307a686a0163366fc4cbdb5e99487d8dedd"
   },
   "source": [
    "![](https://raw.githubusercontent.com/jbj2505/fut-squad-evolver/master/images/fut3.png)"
   ]
  },
  {
   "cell_type": "markdown",
   "metadata": {
    "_uuid": "c17621ec681145e5618ce02e084f4e68f56462f9"
   },
   "source": [
    "First, we load our data into the session."
   ]
  },
  {
   "cell_type": "code",
   "execution_count": 11,
   "metadata": {
    "_uuid": "6689f2b70a8a5c4b0895cd44f380361e01f88994"
   },
   "outputs": [
    {
     "data": {
      "text/html": [
       "<div>\n",
       "<style scoped>\n",
       "    .dataframe tbody tr th:only-of-type {\n",
       "        vertical-align: middle;\n",
       "    }\n",
       "\n",
       "    .dataframe tbody tr th {\n",
       "        vertical-align: top;\n",
       "    }\n",
       "\n",
       "    .dataframe thead th {\n",
       "        text-align: right;\n",
       "    }\n",
       "</style>\n",
       "<table border=\"1\" class=\"dataframe\">\n",
       "  <thead>\n",
       "    <tr style=\"text-align: right;\">\n",
       "      <th></th>\n",
       "      <th>player_ID</th>\n",
       "      <th>player_name</th>\n",
       "      <th>player_extended_name</th>\n",
       "      <th>quality</th>\n",
       "      <th>revision</th>\n",
       "      <th>origin</th>\n",
       "      <th>overall</th>\n",
       "      <th>club</th>\n",
       "      <th>league</th>\n",
       "      <th>nationality</th>\n",
       "      <th>...</th>\n",
       "      <th>rf</th>\n",
       "      <th>lf</th>\n",
       "      <th>rw</th>\n",
       "      <th>lw</th>\n",
       "      <th>st</th>\n",
       "      <th>price_ps4</th>\n",
       "      <th>price_xbox</th>\n",
       "      <th>price_pc</th>\n",
       "      <th>traits</th>\n",
       "      <th>specialties</th>\n",
       "    </tr>\n",
       "  </thead>\n",
       "  <tbody>\n",
       "    <tr>\n",
       "      <th>0</th>\n",
       "      <td>1</td>\n",
       "      <td>Pelé</td>\n",
       "      <td>Arantes Nascimento Edson</td>\n",
       "      <td>Gold - Rare</td>\n",
       "      <td>Icon</td>\n",
       "      <td>NaN</td>\n",
       "      <td>98</td>\n",
       "      <td>Icons</td>\n",
       "      <td>Icons</td>\n",
       "      <td>Brazil</td>\n",
       "      <td>...</td>\n",
       "      <td>96.0</td>\n",
       "      <td>96</td>\n",
       "      <td>96</td>\n",
       "      <td>96</td>\n",
       "      <td>95</td>\n",
       "      <td>NaN</td>\n",
       "      <td>NaN</td>\n",
       "      <td>NaN</td>\n",
       "      <td>Finesse Shot</td>\n",
       "      <td>Speedster, Aerial Threat, Dribbler, Play Maker...</td>\n",
       "    </tr>\n",
       "    <tr>\n",
       "      <th>1</th>\n",
       "      <td>2</td>\n",
       "      <td>Maradona</td>\n",
       "      <td>Diego Maradona</td>\n",
       "      <td>Gold - Rare</td>\n",
       "      <td>Icon</td>\n",
       "      <td>NaN</td>\n",
       "      <td>97</td>\n",
       "      <td>Icons</td>\n",
       "      <td>Icons</td>\n",
       "      <td>Argentina</td>\n",
       "      <td>...</td>\n",
       "      <td>94.0</td>\n",
       "      <td>94</td>\n",
       "      <td>94</td>\n",
       "      <td>94</td>\n",
       "      <td>90</td>\n",
       "      <td>2400000.0</td>\n",
       "      <td>2954000.0</td>\n",
       "      <td>NaN</td>\n",
       "      <td>Avoids Using Weaker Foot, Finesse Shot, Flair,...</td>\n",
       "      <td>Speedster, Dribbler, Play Maker, Distance Shoo...</td>\n",
       "    </tr>\n",
       "    <tr>\n",
       "      <th>2</th>\n",
       "      <td>3</td>\n",
       "      <td>Ronaldo</td>\n",
       "      <td>Nazário de Lima Ronaldo Luís</td>\n",
       "      <td>Gold - Rare</td>\n",
       "      <td>Icon</td>\n",
       "      <td>NaN</td>\n",
       "      <td>96</td>\n",
       "      <td>Icons</td>\n",
       "      <td>Icons</td>\n",
       "      <td>Brazil</td>\n",
       "      <td>...</td>\n",
       "      <td>94.0</td>\n",
       "      <td>94</td>\n",
       "      <td>92</td>\n",
       "      <td>92</td>\n",
       "      <td>94</td>\n",
       "      <td>5697000.0</td>\n",
       "      <td>7650000.0</td>\n",
       "      <td>NaN</td>\n",
       "      <td>Tries To Beat Defensive Line, Finesse Shot</td>\n",
       "      <td>Speedster, Dribbler, Distance Shooter, FK Spec...</td>\n",
       "    </tr>\n",
       "    <tr>\n",
       "      <th>3</th>\n",
       "      <td>4</td>\n",
       "      <td>Pelé</td>\n",
       "      <td>Arantes Nascimento Edson</td>\n",
       "      <td>Gold - Rare</td>\n",
       "      <td>Icon</td>\n",
       "      <td>NaN</td>\n",
       "      <td>95</td>\n",
       "      <td>Icons</td>\n",
       "      <td>Icons</td>\n",
       "      <td>Brazil</td>\n",
       "      <td>...</td>\n",
       "      <td>94.0</td>\n",
       "      <td>94</td>\n",
       "      <td>94</td>\n",
       "      <td>94</td>\n",
       "      <td>92</td>\n",
       "      <td>2600000.0</td>\n",
       "      <td>3650000.0</td>\n",
       "      <td>4501000.0</td>\n",
       "      <td>Finesse Shot</td>\n",
       "      <td>Speedster, Dribbler, Distance Shooter, Crosser...</td>\n",
       "    </tr>\n",
       "    <tr>\n",
       "      <th>4</th>\n",
       "      <td>5</td>\n",
       "      <td>Maradona</td>\n",
       "      <td>Diego Maradona</td>\n",
       "      <td>Gold - Rare</td>\n",
       "      <td>Icon</td>\n",
       "      <td>NaN</td>\n",
       "      <td>95</td>\n",
       "      <td>Icons</td>\n",
       "      <td>Icons</td>\n",
       "      <td>Argentina</td>\n",
       "      <td>...</td>\n",
       "      <td>92.0</td>\n",
       "      <td>92</td>\n",
       "      <td>92</td>\n",
       "      <td>92</td>\n",
       "      <td>88</td>\n",
       "      <td>1695000.0</td>\n",
       "      <td>2600000.0</td>\n",
       "      <td>4201000.0</td>\n",
       "      <td>Avoids Using Weaker Foot, Finesse Shot, Flair,...</td>\n",
       "      <td>Dribbler, Play Maker, Distance Shooter, Crosse...</td>\n",
       "    </tr>\n",
       "  </tbody>\n",
       "</table>\n",
       "<p>5 rows × 84 columns</p>\n",
       "</div>"
      ],
      "text/plain": [
       "   player_ID player_name          player_extended_name      quality revision  \\\n",
       "0          1        Pelé      Arantes Nascimento Edson  Gold - Rare     Icon   \n",
       "1          2    Maradona                Diego Maradona  Gold - Rare     Icon   \n",
       "2          3     Ronaldo  Nazário de Lima Ronaldo Luís  Gold - Rare     Icon   \n",
       "3          4        Pelé      Arantes Nascimento Edson  Gold - Rare     Icon   \n",
       "4          5    Maradona                Diego Maradona  Gold - Rare     Icon   \n",
       "\n",
       "  origin  overall   club league nationality  \\\n",
       "0    NaN       98  Icons  Icons      Brazil   \n",
       "1    NaN       97  Icons  Icons   Argentina   \n",
       "2    NaN       96  Icons  Icons      Brazil   \n",
       "3    NaN       95  Icons  Icons      Brazil   \n",
       "4    NaN       95  Icons  Icons   Argentina   \n",
       "\n",
       "                         ...                            rf  lf  rw  lw  st  \\\n",
       "0                        ...                          96.0  96  96  96  95   \n",
       "1                        ...                          94.0  94  94  94  90   \n",
       "2                        ...                          94.0  94  92  92  94   \n",
       "3                        ...                          94.0  94  94  94  92   \n",
       "4                        ...                          92.0  92  92  92  88   \n",
       "\n",
       "   price_ps4 price_xbox   price_pc  \\\n",
       "0        NaN        NaN        NaN   \n",
       "1  2400000.0  2954000.0        NaN   \n",
       "2  5697000.0  7650000.0        NaN   \n",
       "3  2600000.0  3650000.0  4501000.0   \n",
       "4  1695000.0  2600000.0  4201000.0   \n",
       "\n",
       "                                              traits  \\\n",
       "0                                       Finesse Shot   \n",
       "1  Avoids Using Weaker Foot, Finesse Shot, Flair,...   \n",
       "2         Tries To Beat Defensive Line, Finesse Shot   \n",
       "3                                       Finesse Shot   \n",
       "4  Avoids Using Weaker Foot, Finesse Shot, Flair,...   \n",
       "\n",
       "                                         specialties  \n",
       "0  Speedster, Aerial Threat, Dribbler, Play Maker...  \n",
       "1  Speedster, Dribbler, Play Maker, Distance Shoo...  \n",
       "2  Speedster, Dribbler, Distance Shooter, FK Spec...  \n",
       "3  Speedster, Dribbler, Distance Shooter, Crosser...  \n",
       "4  Dribbler, Play Maker, Distance Shooter, Crosse...  \n",
       "\n",
       "[5 rows x 84 columns]"
      ]
     },
     "execution_count": 11,
     "metadata": {},
     "output_type": "execute_result"
    }
   ],
   "source": [
    "with warnings.catch_warnings():\n",
    "    warnings.simplefilter(\"ignore\")\n",
    "    players = pd.read_csv(\"../input/FIFA19 - Ultimate Team players.csv\")\n",
    "players.head()"
   ]
  },
  {
   "cell_type": "markdown",
   "metadata": {
    "_uuid": "242c5bc7f92f054a6fd5adf3c00a91c14782a0ae"
   },
   "source": [
    "We remove players that do not have a price stated."
   ]
  },
  {
   "cell_type": "code",
   "execution_count": 12,
   "metadata": {
    "_uuid": "1c5182ce694164a49e92259fecefc2733cef468b"
   },
   "outputs": [
    {
     "data": {
      "text/html": [
       "<div>\n",
       "<style scoped>\n",
       "    .dataframe tbody tr th:only-of-type {\n",
       "        vertical-align: middle;\n",
       "    }\n",
       "\n",
       "    .dataframe tbody tr th {\n",
       "        vertical-align: top;\n",
       "    }\n",
       "\n",
       "    .dataframe thead th {\n",
       "        text-align: right;\n",
       "    }\n",
       "</style>\n",
       "<table border=\"1\" class=\"dataframe\">\n",
       "  <thead>\n",
       "    <tr style=\"text-align: right;\">\n",
       "      <th></th>\n",
       "      <th>index</th>\n",
       "      <th>player_ID</th>\n",
       "      <th>player_name</th>\n",
       "      <th>player_extended_name</th>\n",
       "      <th>quality</th>\n",
       "      <th>revision</th>\n",
       "      <th>origin</th>\n",
       "      <th>overall</th>\n",
       "      <th>club</th>\n",
       "      <th>league</th>\n",
       "      <th>...</th>\n",
       "      <th>rf</th>\n",
       "      <th>lf</th>\n",
       "      <th>rw</th>\n",
       "      <th>lw</th>\n",
       "      <th>st</th>\n",
       "      <th>price_ps4</th>\n",
       "      <th>price_xbox</th>\n",
       "      <th>price_pc</th>\n",
       "      <th>traits</th>\n",
       "      <th>specialties</th>\n",
       "    </tr>\n",
       "  </thead>\n",
       "  <tbody>\n",
       "    <tr>\n",
       "      <th>0</th>\n",
       "      <td>1</td>\n",
       "      <td>2</td>\n",
       "      <td>Maradona</td>\n",
       "      <td>Diego Maradona</td>\n",
       "      <td>Gold - Rare</td>\n",
       "      <td>Icon</td>\n",
       "      <td>NaN</td>\n",
       "      <td>97</td>\n",
       "      <td>Icons</td>\n",
       "      <td>Icons</td>\n",
       "      <td>...</td>\n",
       "      <td>94.0</td>\n",
       "      <td>94</td>\n",
       "      <td>94</td>\n",
       "      <td>94</td>\n",
       "      <td>90</td>\n",
       "      <td>2400000.0</td>\n",
       "      <td>2954000.0</td>\n",
       "      <td>NaN</td>\n",
       "      <td>Avoids Using Weaker Foot, Finesse Shot, Flair,...</td>\n",
       "      <td>Speedster, Dribbler, Play Maker, Distance Shoo...</td>\n",
       "    </tr>\n",
       "    <tr>\n",
       "      <th>1</th>\n",
       "      <td>2</td>\n",
       "      <td>3</td>\n",
       "      <td>Ronaldo</td>\n",
       "      <td>Nazário de Lima Ronaldo Luís</td>\n",
       "      <td>Gold - Rare</td>\n",
       "      <td>Icon</td>\n",
       "      <td>NaN</td>\n",
       "      <td>96</td>\n",
       "      <td>Icons</td>\n",
       "      <td>Icons</td>\n",
       "      <td>...</td>\n",
       "      <td>94.0</td>\n",
       "      <td>94</td>\n",
       "      <td>92</td>\n",
       "      <td>92</td>\n",
       "      <td>94</td>\n",
       "      <td>5697000.0</td>\n",
       "      <td>7650000.0</td>\n",
       "      <td>NaN</td>\n",
       "      <td>Tries To Beat Defensive Line, Finesse Shot</td>\n",
       "      <td>Speedster, Dribbler, Distance Shooter, FK Spec...</td>\n",
       "    </tr>\n",
       "    <tr>\n",
       "      <th>2</th>\n",
       "      <td>3</td>\n",
       "      <td>4</td>\n",
       "      <td>Pelé</td>\n",
       "      <td>Arantes Nascimento Edson</td>\n",
       "      <td>Gold - Rare</td>\n",
       "      <td>Icon</td>\n",
       "      <td>NaN</td>\n",
       "      <td>95</td>\n",
       "      <td>Icons</td>\n",
       "      <td>Icons</td>\n",
       "      <td>...</td>\n",
       "      <td>94.0</td>\n",
       "      <td>94</td>\n",
       "      <td>94</td>\n",
       "      <td>94</td>\n",
       "      <td>92</td>\n",
       "      <td>2600000.0</td>\n",
       "      <td>3650000.0</td>\n",
       "      <td>4501000.0</td>\n",
       "      <td>Finesse Shot</td>\n",
       "      <td>Speedster, Dribbler, Distance Shooter, Crosser...</td>\n",
       "    </tr>\n",
       "    <tr>\n",
       "      <th>3</th>\n",
       "      <td>4</td>\n",
       "      <td>5</td>\n",
       "      <td>Maradona</td>\n",
       "      <td>Diego Maradona</td>\n",
       "      <td>Gold - Rare</td>\n",
       "      <td>Icon</td>\n",
       "      <td>NaN</td>\n",
       "      <td>95</td>\n",
       "      <td>Icons</td>\n",
       "      <td>Icons</td>\n",
       "      <td>...</td>\n",
       "      <td>92.0</td>\n",
       "      <td>92</td>\n",
       "      <td>92</td>\n",
       "      <td>92</td>\n",
       "      <td>88</td>\n",
       "      <td>1695000.0</td>\n",
       "      <td>2600000.0</td>\n",
       "      <td>4201000.0</td>\n",
       "      <td>Avoids Using Weaker Foot, Finesse Shot, Flair,...</td>\n",
       "      <td>Dribbler, Play Maker, Distance Shooter, Crosse...</td>\n",
       "    </tr>\n",
       "    <tr>\n",
       "      <th>4</th>\n",
       "      <td>5</td>\n",
       "      <td>6</td>\n",
       "      <td>Maldini</td>\n",
       "      <td>Paolo Maldini</td>\n",
       "      <td>Gold - Rare</td>\n",
       "      <td>Icon</td>\n",
       "      <td>NaN</td>\n",
       "      <td>94</td>\n",
       "      <td>Icons</td>\n",
       "      <td>Icons</td>\n",
       "      <td>...</td>\n",
       "      <td>68.0</td>\n",
       "      <td>68</td>\n",
       "      <td>69</td>\n",
       "      <td>69</td>\n",
       "      <td>70</td>\n",
       "      <td>1526000.0</td>\n",
       "      <td>NaN</td>\n",
       "      <td>NaN</td>\n",
       "      <td>Team Player</td>\n",
       "      <td>Aerial Threat, Tackler, Tactician, Complete De...</td>\n",
       "    </tr>\n",
       "  </tbody>\n",
       "</table>\n",
       "<p>5 rows × 85 columns</p>\n",
       "</div>"
      ],
      "text/plain": [
       "   index  player_ID player_name          player_extended_name      quality  \\\n",
       "0      1          2    Maradona                Diego Maradona  Gold - Rare   \n",
       "1      2          3     Ronaldo  Nazário de Lima Ronaldo Luís  Gold - Rare   \n",
       "2      3          4        Pelé      Arantes Nascimento Edson  Gold - Rare   \n",
       "3      4          5    Maradona                Diego Maradona  Gold - Rare   \n",
       "4      5          6     Maldini                 Paolo Maldini  Gold - Rare   \n",
       "\n",
       "  revision origin  overall   club league  \\\n",
       "0     Icon    NaN       97  Icons  Icons   \n",
       "1     Icon    NaN       96  Icons  Icons   \n",
       "2     Icon    NaN       95  Icons  Icons   \n",
       "3     Icon    NaN       95  Icons  Icons   \n",
       "4     Icon    NaN       94  Icons  Icons   \n",
       "\n",
       "                         ...                            rf  lf  rw  lw  st  \\\n",
       "0                        ...                          94.0  94  94  94  90   \n",
       "1                        ...                          94.0  94  92  92  94   \n",
       "2                        ...                          94.0  94  94  94  92   \n",
       "3                        ...                          92.0  92  92  92  88   \n",
       "4                        ...                          68.0  68  69  69  70   \n",
       "\n",
       "   price_ps4  price_xbox   price_pc  \\\n",
       "0  2400000.0   2954000.0        NaN   \n",
       "1  5697000.0   7650000.0        NaN   \n",
       "2  2600000.0   3650000.0  4501000.0   \n",
       "3  1695000.0   2600000.0  4201000.0   \n",
       "4  1526000.0         NaN        NaN   \n",
       "\n",
       "                                              traits  \\\n",
       "0  Avoids Using Weaker Foot, Finesse Shot, Flair,...   \n",
       "1         Tries To Beat Defensive Line, Finesse Shot   \n",
       "2                                       Finesse Shot   \n",
       "3  Avoids Using Weaker Foot, Finesse Shot, Flair,...   \n",
       "4                                        Team Player   \n",
       "\n",
       "                                         specialties  \n",
       "0  Speedster, Dribbler, Play Maker, Distance Shoo...  \n",
       "1  Speedster, Dribbler, Distance Shooter, FK Spec...  \n",
       "2  Speedster, Dribbler, Distance Shooter, Crosser...  \n",
       "3  Dribbler, Play Maker, Distance Shooter, Crosse...  \n",
       "4  Aerial Threat, Tackler, Tactician, Complete De...  \n",
       "\n",
       "[5 rows x 85 columns]"
      ]
     },
     "execution_count": 12,
     "metadata": {},
     "output_type": "execute_result"
    }
   ],
   "source": [
    "condition = ~players.price_ps4.isna()\n",
    "players = players[condition].reset_index()\n",
    "players.head()"
   ]
  },
  {
   "cell_type": "markdown",
   "metadata": {
    "_uuid": "68adba1d10b8e41cd345f32b386553273d83e348"
   },
   "source": [
    "We convert all column names to lower case."
   ]
  },
  {
   "cell_type": "code",
   "execution_count": 13,
   "metadata": {
    "_uuid": "b144a55951ee1253e97bf8024e5e2993b6931b65"
   },
   "outputs": [
    {
     "data": {
      "text/html": [
       "<div>\n",
       "<style scoped>\n",
       "    .dataframe tbody tr th:only-of-type {\n",
       "        vertical-align: middle;\n",
       "    }\n",
       "\n",
       "    .dataframe tbody tr th {\n",
       "        vertical-align: top;\n",
       "    }\n",
       "\n",
       "    .dataframe thead th {\n",
       "        text-align: right;\n",
       "    }\n",
       "</style>\n",
       "<table border=\"1\" class=\"dataframe\">\n",
       "  <thead>\n",
       "    <tr style=\"text-align: right;\">\n",
       "      <th></th>\n",
       "      <th>index</th>\n",
       "      <th>player_id</th>\n",
       "      <th>player_name</th>\n",
       "      <th>player_extended_name</th>\n",
       "      <th>quality</th>\n",
       "      <th>revision</th>\n",
       "      <th>origin</th>\n",
       "      <th>overall</th>\n",
       "      <th>club</th>\n",
       "      <th>league</th>\n",
       "      <th>...</th>\n",
       "      <th>rf</th>\n",
       "      <th>lf</th>\n",
       "      <th>rw</th>\n",
       "      <th>lw</th>\n",
       "      <th>st</th>\n",
       "      <th>price_ps4</th>\n",
       "      <th>price_xbox</th>\n",
       "      <th>price_pc</th>\n",
       "      <th>traits</th>\n",
       "      <th>specialties</th>\n",
       "    </tr>\n",
       "  </thead>\n",
       "  <tbody>\n",
       "    <tr>\n",
       "      <th>0</th>\n",
       "      <td>1</td>\n",
       "      <td>2</td>\n",
       "      <td>Maradona</td>\n",
       "      <td>Diego Maradona</td>\n",
       "      <td>Gold - Rare</td>\n",
       "      <td>Icon</td>\n",
       "      <td>NaN</td>\n",
       "      <td>97</td>\n",
       "      <td>Icons</td>\n",
       "      <td>Icons</td>\n",
       "      <td>...</td>\n",
       "      <td>94.0</td>\n",
       "      <td>94</td>\n",
       "      <td>94</td>\n",
       "      <td>94</td>\n",
       "      <td>90</td>\n",
       "      <td>2400000.0</td>\n",
       "      <td>2954000.0</td>\n",
       "      <td>NaN</td>\n",
       "      <td>Avoids Using Weaker Foot, Finesse Shot, Flair,...</td>\n",
       "      <td>Speedster, Dribbler, Play Maker, Distance Shoo...</td>\n",
       "    </tr>\n",
       "    <tr>\n",
       "      <th>1</th>\n",
       "      <td>2</td>\n",
       "      <td>3</td>\n",
       "      <td>Ronaldo</td>\n",
       "      <td>Nazário de Lima Ronaldo Luís</td>\n",
       "      <td>Gold - Rare</td>\n",
       "      <td>Icon</td>\n",
       "      <td>NaN</td>\n",
       "      <td>96</td>\n",
       "      <td>Icons</td>\n",
       "      <td>Icons</td>\n",
       "      <td>...</td>\n",
       "      <td>94.0</td>\n",
       "      <td>94</td>\n",
       "      <td>92</td>\n",
       "      <td>92</td>\n",
       "      <td>94</td>\n",
       "      <td>5697000.0</td>\n",
       "      <td>7650000.0</td>\n",
       "      <td>NaN</td>\n",
       "      <td>Tries To Beat Defensive Line, Finesse Shot</td>\n",
       "      <td>Speedster, Dribbler, Distance Shooter, FK Spec...</td>\n",
       "    </tr>\n",
       "    <tr>\n",
       "      <th>2</th>\n",
       "      <td>3</td>\n",
       "      <td>4</td>\n",
       "      <td>Pelé</td>\n",
       "      <td>Arantes Nascimento Edson</td>\n",
       "      <td>Gold - Rare</td>\n",
       "      <td>Icon</td>\n",
       "      <td>NaN</td>\n",
       "      <td>95</td>\n",
       "      <td>Icons</td>\n",
       "      <td>Icons</td>\n",
       "      <td>...</td>\n",
       "      <td>94.0</td>\n",
       "      <td>94</td>\n",
       "      <td>94</td>\n",
       "      <td>94</td>\n",
       "      <td>92</td>\n",
       "      <td>2600000.0</td>\n",
       "      <td>3650000.0</td>\n",
       "      <td>4501000.0</td>\n",
       "      <td>Finesse Shot</td>\n",
       "      <td>Speedster, Dribbler, Distance Shooter, Crosser...</td>\n",
       "    </tr>\n",
       "    <tr>\n",
       "      <th>3</th>\n",
       "      <td>4</td>\n",
       "      <td>5</td>\n",
       "      <td>Maradona</td>\n",
       "      <td>Diego Maradona</td>\n",
       "      <td>Gold - Rare</td>\n",
       "      <td>Icon</td>\n",
       "      <td>NaN</td>\n",
       "      <td>95</td>\n",
       "      <td>Icons</td>\n",
       "      <td>Icons</td>\n",
       "      <td>...</td>\n",
       "      <td>92.0</td>\n",
       "      <td>92</td>\n",
       "      <td>92</td>\n",
       "      <td>92</td>\n",
       "      <td>88</td>\n",
       "      <td>1695000.0</td>\n",
       "      <td>2600000.0</td>\n",
       "      <td>4201000.0</td>\n",
       "      <td>Avoids Using Weaker Foot, Finesse Shot, Flair,...</td>\n",
       "      <td>Dribbler, Play Maker, Distance Shooter, Crosse...</td>\n",
       "    </tr>\n",
       "    <tr>\n",
       "      <th>4</th>\n",
       "      <td>5</td>\n",
       "      <td>6</td>\n",
       "      <td>Maldini</td>\n",
       "      <td>Paolo Maldini</td>\n",
       "      <td>Gold - Rare</td>\n",
       "      <td>Icon</td>\n",
       "      <td>NaN</td>\n",
       "      <td>94</td>\n",
       "      <td>Icons</td>\n",
       "      <td>Icons</td>\n",
       "      <td>...</td>\n",
       "      <td>68.0</td>\n",
       "      <td>68</td>\n",
       "      <td>69</td>\n",
       "      <td>69</td>\n",
       "      <td>70</td>\n",
       "      <td>1526000.0</td>\n",
       "      <td>NaN</td>\n",
       "      <td>NaN</td>\n",
       "      <td>Team Player</td>\n",
       "      <td>Aerial Threat, Tackler, Tactician, Complete De...</td>\n",
       "    </tr>\n",
       "  </tbody>\n",
       "</table>\n",
       "<p>5 rows × 85 columns</p>\n",
       "</div>"
      ],
      "text/plain": [
       "   index  player_id player_name          player_extended_name      quality  \\\n",
       "0      1          2    Maradona                Diego Maradona  Gold - Rare   \n",
       "1      2          3     Ronaldo  Nazário de Lima Ronaldo Luís  Gold - Rare   \n",
       "2      3          4        Pelé      Arantes Nascimento Edson  Gold - Rare   \n",
       "3      4          5    Maradona                Diego Maradona  Gold - Rare   \n",
       "4      5          6     Maldini                 Paolo Maldini  Gold - Rare   \n",
       "\n",
       "  revision origin  overall   club league  \\\n",
       "0     Icon    NaN       97  Icons  Icons   \n",
       "1     Icon    NaN       96  Icons  Icons   \n",
       "2     Icon    NaN       95  Icons  Icons   \n",
       "3     Icon    NaN       95  Icons  Icons   \n",
       "4     Icon    NaN       94  Icons  Icons   \n",
       "\n",
       "                         ...                            rf  lf  rw  lw  st  \\\n",
       "0                        ...                          94.0  94  94  94  90   \n",
       "1                        ...                          94.0  94  92  92  94   \n",
       "2                        ...                          94.0  94  94  94  92   \n",
       "3                        ...                          92.0  92  92  92  88   \n",
       "4                        ...                          68.0  68  69  69  70   \n",
       "\n",
       "   price_ps4  price_xbox   price_pc  \\\n",
       "0  2400000.0   2954000.0        NaN   \n",
       "1  5697000.0   7650000.0        NaN   \n",
       "2  2600000.0   3650000.0  4501000.0   \n",
       "3  1695000.0   2600000.0  4201000.0   \n",
       "4  1526000.0         NaN        NaN   \n",
       "\n",
       "                                              traits  \\\n",
       "0  Avoids Using Weaker Foot, Finesse Shot, Flair,...   \n",
       "1         Tries To Beat Defensive Line, Finesse Shot   \n",
       "2                                       Finesse Shot   \n",
       "3  Avoids Using Weaker Foot, Finesse Shot, Flair,...   \n",
       "4                                        Team Player   \n",
       "\n",
       "                                         specialties  \n",
       "0  Speedster, Dribbler, Play Maker, Distance Shoo...  \n",
       "1  Speedster, Dribbler, Distance Shooter, FK Spec...  \n",
       "2  Speedster, Dribbler, Distance Shooter, Crosser...  \n",
       "3  Dribbler, Play Maker, Distance Shooter, Crosse...  \n",
       "4  Aerial Threat, Tackler, Tactician, Complete De...  \n",
       "\n",
       "[5 rows x 85 columns]"
      ]
     },
     "execution_count": 13,
     "metadata": {},
     "output_type": "execute_result"
    }
   ],
   "source": [
    "players.columns = players.columns.str.lower()\n",
    "players.head()"
   ]
  },
  {
   "cell_type": "code",
   "execution_count": 14,
   "metadata": {
    "_uuid": "e477991a00071314b5fb752d61070dbd8a85e4c5"
   },
   "outputs": [
    {
     "data": {
      "text/plain": [
       "(15544, 85)"
      ]
     },
     "execution_count": 14,
     "metadata": {},
     "output_type": "execute_result"
    }
   ],
   "source": [
    "players.shape"
   ]
  },
  {
   "cell_type": "markdown",
   "metadata": {
    "_uuid": "c9572ffb5d8430368c269d9028124223fa3754e7"
   },
   "source": [
    "At this point we have 15,544 players and 85 columns."
   ]
  },
  {
   "cell_type": "markdown",
   "metadata": {
    "_uuid": "1bf3f37203be8971f6cbf7cdcd5b8e956e36eb3b"
   },
   "source": [
    "Next we define a Player class."
   ]
  },
  {
   "cell_type": "code",
   "execution_count": 15,
   "metadata": {
    "_uuid": "bf2b33f282e27ecb3f164f2b7274a143dde31349"
   },
   "outputs": [],
   "source": [
    "class Player:\n",
    "    \n",
    "    def __init__(self, data):\n",
    "        \"\"\"\n",
    "        Creates Player instance.\n",
    "        Args:\n",
    "            data: a Pandas series from the players dataframe.\n",
    "        Returns:\n",
    "            a Player instance.\n",
    "        \"\"\"\n",
    "        self.data = data\n",
    "        self.position = get_position(self.data.position)\n",
    "        \n",
    "    def __eq__(self, other):\n",
    "        \"\"\"\n",
    "        Checks for equality between self and other.\n",
    "        One player can have several card versions, so only matching the player_id is not sufficient.\n",
    "        Args:\n",
    "            other: a Player instance.\n",
    "        Returns:\n",
    "            a boolean, indicating equality between self and other.\n",
    "        \"\"\"\n",
    "        if self.data.player_extended_name != other.data.player_extended_name:\n",
    "            return False\n",
    "        if self.data.date_of_birth != other.data.date_of_birth:\n",
    "            return False\n",
    "        return True\n",
    "    \n",
    "    def get_chemistry(self, other):\n",
    "        \"\"\"\n",
    "        Calculates chemistry to other.\n",
    "        Args:\n",
    "            other: a Player instance.\n",
    "        Returns:\n",
    "            an integer, representing the chemistry between self and other.\n",
    "        \"\"\"\n",
    "        chemistry = 0\n",
    "        if self.data.nationality == other.data.nationality:\n",
    "            chemistry += 1\n",
    "        if self.data.league == other.data.league:\n",
    "            chemistry += 1\n",
    "        if self.data.club == other.data.club:\n",
    "            chemistry += 1\n",
    "        return chemistry\n",
    "    \n",
    "    def __repr__(self):\n",
    "        return \"{}(id={}, name={}, overall={}, position={}, price={}, nationality={}, league={}, club={})\".format(self.__class__.__name__, self.data.player_id, \n",
    "                                                                                                                  self.data.player_name, self.data.overall,\n",
    "                                                                                                                  self.position.id, int(self.data.price_ps4),\n",
    "                                                                                                                  self.data.nationality, self.data.league, self.data.club)"
   ]
  },
  {
   "cell_type": "markdown",
   "metadata": {
    "_uuid": "ae7d25219249d0ed4bd9e854b335d3ce92e87500"
   },
   "source": [
    "We convert the dataframe to a series of Player objects."
   ]
  },
  {
   "cell_type": "code",
   "execution_count": 16,
   "metadata": {
    "_uuid": "4cc72cabe0545e45ae79cc48038576cda097b029"
   },
   "outputs": [
    {
     "data": {
      "text/plain": [
       "0    Player(id=2, name=Maradona, overall=97, positi...\n",
       "1    Player(id=3, name=Ronaldo, overall=96, positio...\n",
       "2    Player(id=4, name=Pelé, overall=95, position=C...\n",
       "3    Player(id=5, name=Maradona, overall=95, positi...\n",
       "4    Player(id=6, name=Maldini, overall=94, positio...\n",
       "dtype: object"
      ]
     },
     "execution_count": 16,
     "metadata": {},
     "output_type": "execute_result"
    }
   ],
   "source": [
    "players = players.apply(lambda x: Player(x.copy()), axis=1)\n",
    "players.head()"
   ]
  },
  {
   "cell_type": "markdown",
   "metadata": {
    "_uuid": "03082a36514660cb5194fd31f60f26d58ed3f929"
   },
   "source": [
    "## Creating Formation"
   ]
  },
  {
   "cell_type": "markdown",
   "metadata": {
    "_uuid": "71fbcb4bde0f20bc720f69350b7839a0392dd33a"
   },
   "source": [
    "Conceptually, a formation is a set of 11 slots, where every slot has an assigned position and links to adjacent slots."
   ]
  },
  {
   "cell_type": "markdown",
   "metadata": {
    "_uuid": "ea375f471df0fc827984a62a45d034c6bde6d0ef"
   },
   "source": [
    "![](https://raw.githubusercontent.com/jbj2505/fut-squad-evolver/master/images/fut4.png)"
   ]
  },
  {
   "cell_type": "markdown",
   "metadata": {
    "_uuid": "91b05426feee06b8bbf3998cbe482258cb1794c9"
   },
   "source": [
    "First, we will create the Link class."
   ]
  },
  {
   "cell_type": "code",
   "execution_count": 17,
   "metadata": {
    "_uuid": "3351c979d39301b7bb4d48429040e9c6b4ea0b37"
   },
   "outputs": [],
   "source": [
    "class Link:\n",
    "    \n",
    "    def __init__(self, slot_1, slot_2):\n",
    "        \"\"\"\n",
    "        Creates Link instance.\n",
    "        Args:\n",
    "            slot_1: an instance of Slot.\n",
    "            slot_2: an instance of Slot.\n",
    "        Returns:\n",
    "            an instance of Link.\n",
    "        \"\"\"\n",
    "        self.slot_1 = slot_1\n",
    "        self.slot_2 = slot_2\n",
    "        slot_1.links.append(self)\n",
    "        slot_2.links.append(self)\n",
    "        \n",
    "    def get_other(self, slot):\n",
    "        \"\"\"\n",
    "        Get partner of slot.\n",
    "        Args:\n",
    "            slot: an instance of Slot.\n",
    "        Returns:\n",
    "            an instance of Slot.\n",
    "        Raise:\n",
    "            IndexError, when slot not slot_1 and slot not slot_2.\n",
    "        \"\"\"\n",
    "        if slot is self.slot_1:\n",
    "            return self.slot_2\n",
    "        if slot is self.slot_2:\n",
    "            return self.slot_1\n",
    "        raise IndexError\n",
    "        \n",
    "    def __repr__(self):\n",
    "        return \"{}(slot_1={}, slot_2={})\".format(self.__class__.__name__, self.slot_1.slot_id, self.slot_2.slot_id)"
   ]
  },
  {
   "cell_type": "code",
   "execution_count": 18,
   "metadata": {
    "_uuid": "2aa1aa9e7b56932c88ea491b6a53004085a9460e"
   },
   "outputs": [],
   "source": [
    "def make_links(links, slots):\n",
    "    \"\"\"Converts links dictionary to Link instances.\"\"\"\n",
    "    return [Link(slots[p1], slots[p2]) for p1, p2 in links]"
   ]
  },
  {
   "cell_type": "markdown",
   "metadata": {
    "_uuid": "6e56ecfd796bb66b5262d284d4cf1457b87c1780"
   },
   "source": [
    "Then we create the Slot class."
   ]
  },
  {
   "cell_type": "code",
   "execution_count": 19,
   "metadata": {
    "_uuid": "977caffbe3079e494476a77f8186a72ed7e83978"
   },
   "outputs": [],
   "source": [
    "class Slot:\n",
    "    \n",
    "    def __init__(self, slot_id, position, player=None, links=None):\n",
    "        \"\"\"\n",
    "        Creates Slot instance.\n",
    "        Args:\n",
    "            slot_id: string sequence.\n",
    "            position: instance of Position.\n",
    "            player: instance of Player.\n",
    "            links: list of Link instances.\n",
    "        Returns:\n",
    "            instance of Slot.\n",
    "        \"\"\"\n",
    "        self.slot_id = slot_id\n",
    "        self.position = position\n",
    "        self.player = player\n",
    "        if links is None:\n",
    "            links = []\n",
    "        self.links = links\n",
    "        \n",
    "    def __repr__(self):\n",
    "        return \"{}(id={}, position={}, player={})\".format(self.__class__.__name__, self.slot_id, self.position, self.player)\n",
    "    \n",
    "    def get_linked_slots(self):\n",
    "        \"\"\"Return all slots that this slot is linked to.\"\"\"\n",
    "        return [l.get_other(self) for l in self.links]\n",
    "    \n",
    "    def get_linked_players(self):\n",
    "        \"\"\"Return all players that this slot is linked to.\"\"\"\n",
    "        return [s.player for s in self.get_linked_slots()]\n",
    "    \n",
    "    def get_position_chemistry(self):\n",
    "        \"\"\"Get chemistry between natural position of player and position of slot.\"\"\"        \n",
    "        return self.position.get_chemistry(self.player.position)\n",
    "    \n",
    "    def get_link_chemistry(self):\n",
    "        \"\"\"Get chemistry between player in slot and players in linked slots.\"\"\"\n",
    "        return np.mean([self.player.get_chemistry(p) for p in self.get_linked_players()])\n",
    "    \n",
    "    def get_chemistry(self):\n",
    "        \"\"\"Get overall chemistry, given link chemistry and position chemistry.\"\"\"\n",
    "        return get_chemistry(self.get_link_chemistry(), self.get_position_chemistry())"
   ]
  },
  {
   "cell_type": "markdown",
   "metadata": {
    "_uuid": "2bf1bd497aa6a24d773d405ddb9864938c4a770d"
   },
   "source": [
    "We also need a function that calculates the overall chemistry of a slot, given the link and the position chemistry, according to this table:"
   ]
  },
  {
   "cell_type": "markdown",
   "metadata": {
    "_uuid": "ff26a0d48091f06e8cf5ef316a84730c706692ae"
   },
   "source": [
    "![](https://www.fifauteam.com/wp-content/uploads/2014/01/A215-6E.jpg)"
   ]
  },
  {
   "cell_type": "code",
   "execution_count": 20,
   "metadata": {
    "_uuid": "978ce37f5f980ee8be3ccd946beb9f02642b2170"
   },
   "outputs": [],
   "source": [
    "def get_chemistry(link_chemistry, position_chemistry):\n",
    "    \"\"\"\n",
    "    Calculates individal slot chemistry, given link chemistry and position chemistry.\n",
    "    Args:\n",
    "        link_chemistry: float value.\n",
    "        position_chemistry: int value.\n",
    "    Returns:\n",
    "        a float value.\n",
    "    Raises:\n",
    "        IndexError, when link_chemistry or position_chemistry not within boundaries.\n",
    "    \"\"\"\n",
    "    if link_chemistry < 0.3:\n",
    "        if position_chemistry == 0:\n",
    "            return 0\n",
    "        if position_chemistry == 1:\n",
    "            return 1\n",
    "        if position_chemistry == 2:\n",
    "            return 2\n",
    "        if position_chemistry == 3:\n",
    "            return 3\n",
    "        raise IndexError\n",
    "    if link_chemistry < 1.:\n",
    "        if position_chemistry == 0:\n",
    "            return 1\n",
    "        if position_chemistry == 1:\n",
    "            return 3\n",
    "        if position_chemistry == 2:\n",
    "            return 5\n",
    "        if position_chemistry == 3:\n",
    "            return 6\n",
    "        raise IndexError\n",
    "    if link_chemistry <= 1.6:\n",
    "        if position_chemistry == 0:\n",
    "            return 2\n",
    "        if position_chemistry == 1:\n",
    "            return 5\n",
    "        if position_chemistry == 2:\n",
    "            return 8\n",
    "        if position_chemistry == 3:\n",
    "            return 9\n",
    "        raise IndexError\n",
    "    if link_chemistry > 1.6:\n",
    "        if position_chemistry == 0:\n",
    "            return 2\n",
    "        if position_chemistry == 1:\n",
    "            return 5\n",
    "        if position_chemistry == 2:\n",
    "            return 9\n",
    "        if position_chemistry == 3:\n",
    "            return 10\n",
    "        raise IndexError\n",
    "    raise IndexError"
   ]
  },
  {
   "cell_type": "markdown",
   "metadata": {
    "_uuid": "05d25dd377b0807fe278a8b95c11c9fe35107a84"
   },
   "source": [
    "Finally, we can define a Formation class."
   ]
  },
  {
   "cell_type": "code",
   "execution_count": 21,
   "metadata": {
    "_uuid": "679cccac76b0798c343756f58c60cee3c3e116b2"
   },
   "outputs": [],
   "source": [
    "class Formation:\n",
    "    \n",
    "    def __init__(self, slots, links):\n",
    "        \"\"\"\n",
    "        Creates instance of Formation.\n",
    "        Args:\n",
    "            slots: list of Slot instances.\n",
    "            links: list of Link instances.\n",
    "        Returns:\n",
    "            instance of Formation.\n",
    "        \"\"\"\n",
    "        self.slots = slots\n",
    "        self.links = links\n",
    "        \n",
    "    def get_chemistry(self):\n",
    "        \"\"\"Calculates chemistry of formation. Makes sure it is less of equal to 100.\"\"\"\n",
    "        return np.min([np.sum([s.get_chemistry() for s in self.slots.values()]), 100])\n",
    "    \n",
    "    def get_rating(self):\n",
    "        \"\"\"Calculates rating of formation.\"\"\"\n",
    "        return np.sum([s.player.data.overall for s in self.slots.values()])\n",
    "    \n",
    "    def get_price(self):\n",
    "        \"\"\"Calculates price of formation.\"\"\"\n",
    "        return np.sum([s.player.data.price_ps4 for s in self.slots.values()])\n",
    "        \n",
    "    def __repr__(self):\n",
    "        return \"{}(slots={}, links={})\".format(self.__class__.__name__, self.slots, self.links)"
   ]
  },
  {
   "cell_type": "markdown",
   "metadata": {
    "_uuid": "a2482594b9712092fdb36b79c0e08154c1d5f7fa"
   },
   "source": [
    "Let us create two formations: 433 and 5221."
   ]
  },
  {
   "cell_type": "code",
   "execution_count": 22,
   "metadata": {
    "_uuid": "7f1744451f851c2e43b658c6d1d43bbc33cd53b7"
   },
   "outputs": [],
   "source": [
    "formation_map = {}"
   ]
  },
  {
   "cell_type": "code",
   "execution_count": 23,
   "metadata": {
    "_uuid": "ade04ae64a6b451b92e837d19c4fa3d504e7526e"
   },
   "outputs": [],
   "source": [
    "# Creating 433 formation.\n",
    "\n",
    "# Creating slots.\n",
    "slots = {\n",
    "    \"GK\": \"GK\",\n",
    "    \"LB\": \"LB\",\n",
    "    \"CB1\": \"CB\",\n",
    "    \"CB2\": \"CB\",\n",
    "    \"RB\": \"RB\",\n",
    "    \"CM1\": \"CM\",\n",
    "    \"CM2\": \"CM\",\n",
    "    \"CM3\": \"CM\",\n",
    "    \"LW\": \"LW\",\n",
    "    \"ST\": \"ST\",\n",
    "    \"RW\": \"RW\"\n",
    "}\n",
    "\n",
    "slots = {k: Slot(k, get_position(v)) for k, v in slots.items()}\n",
    "\n",
    "\n",
    "# Creating links.\n",
    "links = [(\"GK\", \"CB1\"), (\"GK\", \"CB2\"),\n",
    "         (\"LB\", \"CB1\"), (\"CB1\", \"CB2\"), (\"CB2\", \"RB\"), \n",
    "         (\"LB\", \"CM1\"), (\"CB1\", \"CM2\"), (\"CB2\", \"CM2\"), (\"RB\", \"CM3\"),\n",
    "         (\"CM1\", \"CM2\"), (\"CM2\", \"CM3\"),\n",
    "         (\"CM1\", \"LW\"), (\"CM2\", \"ST\"), (\"CM3\", \"RW\"),\n",
    "         (\"LW\", \"ST\"), (\"ST\", \"RW\")\n",
    "        ]\n",
    "\n",
    "links = make_links(links, slots)\n",
    "\n",
    "\n",
    "# Adding to formation map.\n",
    "formation_map[\"433\"] = Formation(slots, links)"
   ]
  },
  {
   "cell_type": "code",
   "execution_count": 24,
   "metadata": {
    "_uuid": "01123f788b81835271da6bb776cb4ee54ca2fd91"
   },
   "outputs": [],
   "source": [
    "# Creating 5221 formation.\n",
    "\n",
    "# Creating slots.\n",
    "slots = {\n",
    "    \"GK\": \"GK\",\n",
    "    \"LWB\": \"LWB\",\n",
    "    \"CB1\": \"CB\",\n",
    "    \"CB2\": \"CB\",\n",
    "    \"CB3\": \"CB\",\n",
    "    \"RWB\": \"RWB\",\n",
    "    \"CM1\": \"CM\",\n",
    "    \"CM2\": \"CM\",\n",
    "    \"LW\": \"LW\",\n",
    "    \"ST\": \"ST\",\n",
    "    \"RW\": \"RW\"\n",
    "}\n",
    "slots = {k: Slot(k, get_position(v)) for k, v in slots.items()}\n",
    "\n",
    "\n",
    "# Creating links.\n",
    "links = [(\"GK\", \"CB1\"), (\"GK\", \"CB2\"), (\"GK\", \"CB3\"),\n",
    "         (\"LWB\", \"CB1\"), (\"CB1\", \"CB2\"), (\"CB2\", \"CB3\"), (\"CB3\", \"RWB\"),\n",
    "         (\"LWB\", \"LW\"), (\"LWB\", \"CM1\"), (\"CB2\", \"CM1\"), (\"CB2\", \"CM2\"), (\"RWB\", \"RW\"),\n",
    "         (\"CM1\", \"CM2\"),\n",
    "         (\"CM1\", \"LW\"), (\"CM1\", \"ST\"), (\"CM2\", \"ST\"), (\"CM2\", \"RW\"),\n",
    "         (\"LW\", \"ST\"), (\"ST\", \"RW\")\n",
    "        ]\n",
    "\n",
    "links = make_links(links, slots)\n",
    "\n",
    "\n",
    "# Adding to formation map.\n",
    "formation_map[\"5221\"] = Formation(slots, links)"
   ]
  },
  {
   "cell_type": "code",
   "execution_count": 25,
   "metadata": {
    "_uuid": "783801c5f405ffcf489d49702c3861730fb2e0ae"
   },
   "outputs": [
    {
     "data": {
      "text/plain": [
       "Formation(slots={'GK': Slot(id=GK, position=Position(id=GK), player=None), 'LWB': Slot(id=LWB, position=Position(id=LWB), player=None), 'CB1': Slot(id=CB1, position=Position(id=CB), player=None), 'CB2': Slot(id=CB2, position=Position(id=CB), player=None), 'CB3': Slot(id=CB3, position=Position(id=CB), player=None), 'RWB': Slot(id=RWB, position=Position(id=RWB), player=None), 'CM1': Slot(id=CM1, position=Position(id=CM), player=None), 'CM2': Slot(id=CM2, position=Position(id=CM), player=None), 'LW': Slot(id=LW, position=Position(id=LW), player=None), 'ST': Slot(id=ST, position=Position(id=ST), player=None), 'RW': Slot(id=RW, position=Position(id=RW), player=None)}, links=[Link(slot_1=GK, slot_2=CB1), Link(slot_1=GK, slot_2=CB2), Link(slot_1=GK, slot_2=CB3), Link(slot_1=LWB, slot_2=CB1), Link(slot_1=CB1, slot_2=CB2), Link(slot_1=CB2, slot_2=CB3), Link(slot_1=CB3, slot_2=RWB), Link(slot_1=LWB, slot_2=LW), Link(slot_1=LWB, slot_2=CM1), Link(slot_1=CB2, slot_2=CM1), Link(slot_1=CB2, slot_2=CM2), Link(slot_1=RWB, slot_2=RW), Link(slot_1=CM1, slot_2=CM2), Link(slot_1=CM1, slot_2=LW), Link(slot_1=CM1, slot_2=ST), Link(slot_1=CM2, slot_2=ST), Link(slot_1=CM2, slot_2=RW), Link(slot_1=LW, slot_2=ST), Link(slot_1=ST, slot_2=RW)])"
      ]
     },
     "execution_count": 25,
     "metadata": {},
     "output_type": "execute_result"
    }
   ],
   "source": [
    "formation_map[\"5221\"]"
   ]
  },
  {
   "cell_type": "markdown",
   "metadata": {
    "_uuid": "204a2e1e5f285c845c4823c8b523fddeb4fbc6f7"
   },
   "source": [
    "## Creating Genetic Algorithm"
   ]
  },
  {
   "cell_type": "markdown",
   "metadata": {
    "_uuid": "bdb6e8f883a12b2d6f22572a71d070282cf5f8d8"
   },
   "source": [
    "Finally, we have made it to the genetic optimisation."
   ]
  },
  {
   "cell_type": "markdown",
   "metadata": {
    "_uuid": "bb23c4243c1f620fe5e8a8cbef6ab42c01260548"
   },
   "source": [
    "First, we will create a compatible player dictionary that contains all players that have a chemistry of at least 2 to a given position."
   ]
  },
  {
   "cell_type": "code",
   "execution_count": 26,
   "metadata": {
    "_uuid": "221b3532a8fd7f77c7754dfed1b01bbc7fac9950"
   },
   "outputs": [
    {
     "data": {
      "text/plain": [
       "{'GK': [Position(id=GK)],\n",
       " 'RB': [Position(id=RB), Position(id=RWB)],\n",
       " 'CB': [Position(id=CB)],\n",
       " 'LB': [Position(id=LB), Position(id=LWB)],\n",
       " 'LWB': [Position(id=LB), Position(id=LWB)],\n",
       " 'RWB': [Position(id=RB), Position(id=RWB)],\n",
       " 'CDM': [Position(id=CDM), Position(id=CM)],\n",
       " 'CM': [Position(id=CDM), Position(id=CM), Position(id=CAM)],\n",
       " 'CAM': [Position(id=CM), Position(id=CAM), Position(id=CF)],\n",
       " 'RM': [Position(id=RM), Position(id=RW)],\n",
       " 'LM': [Position(id=LM), Position(id=LW)],\n",
       " 'RW': [Position(id=RM), Position(id=RW), Position(id=RF)],\n",
       " 'LW': [Position(id=LM), Position(id=LW), Position(id=LF)],\n",
       " 'CF': [Position(id=CAM), Position(id=CF), Position(id=ST)],\n",
       " 'RF': [Position(id=RW), Position(id=RF)],\n",
       " 'LF': [Position(id=LW), Position(id=LF)],\n",
       " 'ST': [Position(id=CF), Position(id=ST)]}"
      ]
     },
     "execution_count": 26,
     "metadata": {},
     "output_type": "execute_result"
    }
   ],
   "source": [
    "COMPATIBLE_POSITIONS = {k: v.get_compatible_positions(2) for k, v in get_positions().items()}\n",
    "COMPATIBLE_POSITIONS"
   ]
  },
  {
   "cell_type": "code",
   "execution_count": 27,
   "metadata": {
    "_uuid": "a589c738fa55131a865bbaf314e5d911f32d744c"
   },
   "outputs": [
    {
     "data": {
      "text/plain": [
       "array([Player(id=2, name=Maradona, overall=97, position=CAM, price=2400000, nationality=Argentina, league=Icons, club=Icons),\n",
       "       Player(id=5, name=Maradona, overall=95, position=CAM, price=1695000, nationality=Argentina, league=Icons, club=Icons),\n",
       "       Player(id=11, name=Matthäus, overall=93, position=CM, price=1799000, nationality=Germany, league=Icons, club=Icons),\n",
       "       Player(id=31, name=Laudrup, overall=91, position=CAM, price=537000, nationality=Denmark, league=Icons, club=Icons),\n",
       "       Player(id=32, name=Scholes, overall=91, position=CM, price=840000, nationality=England, league=Icons, club=Icons),\n",
       "       Player(id=34, name=Hagi, overall=91, position=CAM, price=721000, nationality=Romania, league=Icons, club=Icons),\n",
       "       Player(id=37, name=Matthäus, overall=91, position=CDM, price=1160000, nationality=Germany, league=Icons, club=Icons),\n",
       "       Player(id=38, name=Ronaldinho, overall=91, position=CAM, price=2119000, nationality=Brazil, league=Icons, club=Icons),\n",
       "       Player(id=45, name=Vieira, overall=91, position=CM, price=2480000, nationality=France, league=Icons, club=Icons),\n",
       "       Player(id=46, name=Gerrard, overall=91, position=CM, price=1395000, nationality=England, league=Icons, club=Icons)],\n",
       "      dtype=object)"
      ]
     },
     "execution_count": 27,
     "metadata": {},
     "output_type": "execute_result"
    }
   ],
   "source": [
    "COMPATIBLE_PLAYERS = {}\n",
    "\n",
    "for k, v in COMPATIBLE_POSITIONS.items():\n",
    "    condition = np.vectorize(lambda x: x.position in v)(players)\n",
    "    COMPATIBLE_PLAYERS[k] = np.extract(condition, players)\n",
    "\n",
    "COMPATIBLE_PLAYERS[\"CM\"][:10]"
   ]
  },
  {
   "cell_type": "markdown",
   "metadata": {
    "_uuid": "21bef3b11dd3b976adb5635741de10ce47b1bc14"
   },
   "source": [
    "Next, we will create an equal player dictionary that will store all the different cards of the same player."
   ]
  },
  {
   "cell_type": "code",
   "execution_count": 28,
   "metadata": {
    "_uuid": "48e3091187122d1eb316cf2ba51800ff6ea526d6"
   },
   "outputs": [],
   "source": [
    "EQUAL_PLAYERS = {}\n",
    "\n",
    "for player in players:\n",
    "    k = (player.data.player_extended_name, player.data.date_of_birth) \n",
    "    if k not in EQUAL_PLAYERS.keys():\n",
    "        EQUAL_PLAYERS[k] = []\n",
    "    EQUAL_PLAYERS[k].append(player)"
   ]
  },
  {
   "cell_type": "code",
   "execution_count": 29,
   "metadata": {
    "_uuid": "5ec20bb2f0630394de3ea08a523afe12d94f3d49"
   },
   "outputs": [],
   "source": [
    "def get_equal_players(player):\n",
    "    k = (player.data.player_extended_name, player.data.date_of_birth)\n",
    "    return EQUAL_PLAYERS[k]"
   ]
  },
  {
   "cell_type": "code",
   "execution_count": 30,
   "metadata": {
    "_uuid": "7ce9e14da67e629c7d61792acac40d241ee16767"
   },
   "outputs": [
    {
     "name": "stdout",
     "output_type": "stream",
     "text": [
      "('Diego Maradona', '30/10/1960')\n",
      "\tPlayer(id=2, name=Maradona, overall=97, position=CAM, price=2400000, nationality=Argentina, league=Icons, club=Icons)\n",
      "\tPlayer(id=5, name=Maradona, overall=95, position=CAM, price=1695000, nationality=Argentina, league=Icons, club=Icons)\n",
      "\tPlayer(id=51, name=Maradona, overall=91, position=CAM, price=1450000, nationality=Argentina, league=Icons, club=Icons)\n"
     ]
    }
   ],
   "source": [
    "for k, v in EQUAL_PLAYERS.items():\n",
    "    if len(v) > 1:\n",
    "        print(k)\n",
    "        for p in v:\n",
    "            print(\"\\t{}\".format(p))\n",
    "        break"
   ]
  },
  {
   "cell_type": "markdown",
   "metadata": {
    "_uuid": "5f1fca58dfaeebd69017f940fa0bd1ada8d90f74"
   },
   "source": [
    "Next, we create a class that represents individuals in our genetic optimisation."
   ]
  },
  {
   "cell_type": "code",
   "execution_count": 31,
   "metadata": {
    "_uuid": "6ef62517e692e44c2f85402aafa5255a62665c12"
   },
   "outputs": [],
   "source": [
    "class Individual:\n",
    "    \n",
    "    def __init__(self, player_map, fitness=None):\n",
    "        \"\"\"\n",
    "        Creates Individual instance.\n",
    "        Args:\n",
    "            player_map: dictionary, where key is slot_id and value is Player instance.\n",
    "            fitness: float value.\n",
    "        Returns:\n",
    "            instance of class Individual.\n",
    "        \"\"\"\n",
    "        self.player_map = player_map\n",
    "        self.fitness = fitness\n",
    "    \n",
    "    def fill(self, formation):\n",
    "        \"\"\"Fills formation with player_map.\"\"\"\n",
    "        for k, v in formation.slots.items():\n",
    "            v.player = self.player_map[k]\n",
    "        return formation        \n",
    "        \n",
    "    def evaluate(self, formation):\n",
    "        \"\"\"Evaluates formation based on player_map.\"\"\"\n",
    "        self.fill(formation)\n",
    "        self.fitness = loss(formation)\n",
    "        return self.fitness\n",
    "    \n",
    "    def __lt__(self, other):\n",
    "        return self.fitness < other.fitness\n",
    "    \n",
    "    def __le__(self, other):\n",
    "        return self.fitness <= other.fitness\n",
    "    \n",
    "    def __eq__(self, other):\n",
    "        return self.fitness == other.fitness\n",
    "    \n",
    "    def __ge__(self, other):\n",
    "        return self.fitness >= other.fitness\n",
    "    \n",
    "    def __gt__(self, other):\n",
    "        return self.fitness > other.fitness\n",
    "    \n",
    "    def __repr__(self):\n",
    "        return \"{}(player_map={}, fitness={})\".format(self.__class__.__name__, self.player_map, self.fitness)"
   ]
  },
  {
   "cell_type": "code",
   "execution_count": 32,
   "metadata": {
    "_uuid": "ca078f62719e638a82c205573f3956261cece32c"
   },
   "outputs": [],
   "source": [
    "def initialise_individual(formation):\n",
    "    \"\"\"Creates individual by creating random player_map based on formation.\"\"\"\n",
    "    player_map = {}\n",
    "    for k, v in formation.slots.items():\n",
    "        player = None\n",
    "        while not player or player in player_map.values():\n",
    "            player = np.random.choice(COMPATIBLE_PLAYERS[v.position.id])\n",
    "        player_map[k] = player  \n",
    "    individual = Individual(player_map)\n",
    "    return individual"
   ]
  },
  {
   "cell_type": "code",
   "execution_count": 33,
   "metadata": {
    "_uuid": "b20a9fb71a51a7051c9f55529d1fc6afff7e0b1f"
   },
   "outputs": [],
   "source": [
    "def select_individuals(population, tournament_size=5):\n",
    "    \"\"\"Selects fittest individuals from population using tournament selection.\"\"\"\n",
    "    selected_individuals = []\n",
    "    for i in range(len(population)):\n",
    "        tournament = np.random.choice(population, size=tournament_size)\n",
    "        winner = copy.deepcopy(tournament[np.argmax(tournament)])\n",
    "        selected_individuals.append(winner)\n",
    "    return selected_individuals"
   ]
  },
  {
   "cell_type": "code",
   "execution_count": 34,
   "metadata": {
    "_uuid": "a16dae268405cc98768b3d755994b41446f72388"
   },
   "outputs": [],
   "source": [
    "def mutate_individual(individual, replace_prop=0.75, swap_prop=0.2, switch_prop=0.05):\n",
    "    \"\"\"Mutates individual with three different mutation strategies.\"\"\"\n",
    "    # Replace mutation.\n",
    "    if np.random.uniform() < replace_prop:\n",
    "        random_slots = np.random.choice(list(formation.slots.keys()), 1)\n",
    "        for k in random_slots:\n",
    "            player = None\n",
    "            while not player or player in individual.player_map.values():\n",
    "                player = np.random.choice(COMPATIBLE_PLAYERS[formation.slots[k].position.id])\n",
    "            individual.player_map[k] = player\n",
    "    # Swap mutation.    \n",
    "    if np.random.uniform() < swap_prop:\n",
    "        random_slot_1 = formation.slots[np.random.choice(list(individual.player_map.keys()))]\n",
    "        random_slot_2 = np.random.choice(random_slot_1.get_linked_slots())\n",
    "        individual.player_map[random_slot_1.slot_id], individual.player_map[random_slot_2.slot_id] = individual.player_map[random_slot_2.slot_id], individual.player_map[random_slot_1.slot_id]\n",
    "    # Switch mutation.\n",
    "    if np.random.uniform() < switch_prop:\n",
    "        random_slot = formation.slots[np.random.choice(list(individual.player_map.keys()))]\n",
    "        individual.player_map[random_slot.slot_id] = np.random.choice(get_equal_players(individual.player_map[random_slot.slot_id]))"
   ]
  },
  {
   "cell_type": "code",
   "execution_count": 35,
   "metadata": {
    "_uuid": "cfe4aedd3807b74c49642c3fa9c510af785798ed"
   },
   "outputs": [],
   "source": [
    "def crossover_individuals(individual_1, individual_2, formation):\n",
    "    \"\"\"Applies crossover between two different individuals.\"\"\"\n",
    "    random_slot = formation.slots[np.random.choice(list(individual_1.player_map.keys()))]\n",
    "    random_slots = [random_slot] + random_slot.get_linked_slots()\n",
    "    random_slots = [s.slot_id for s in random_slots]\n",
    "    for k in random_slots:\n",
    "        player_1 = individual_1.player_map[k]\n",
    "        player_2 = individual_2.player_map[k]\n",
    "        \n",
    "        if player_2 in individual_1.player_map.values() and player_1 != player_2:\n",
    "            player = None\n",
    "            while not player or player in individual_1.player_map.values():\n",
    "                player = np.random.choice(COMPATIBLE_PLAYERS[formation.slots[k].position.id])\n",
    "            individual_1.player_map[k] = player\n",
    "        else:\n",
    "            individual_1.player_map[k] = player_2\n",
    "        \n",
    "        if player_1 in individual_2.player_map.values() and player_1 != player_2:\n",
    "            player = None\n",
    "            while not player or player in individual_2.player_map.values():\n",
    "                player = np.random.choice(COMPATIBLE_PLAYERS[formation.slots[k].position.id])\n",
    "            individual_2.player_map[k] = player\n",
    "        else:\n",
    "            individual_2.player_map[k] = player_1"
   ]
  },
  {
   "cell_type": "code",
   "execution_count": 36,
   "metadata": {
    "_uuid": "540c4ecd87a4e51b07c2959fbc87deaa9ecdb012"
   },
   "outputs": [],
   "source": [
    "formation = formation_map[\"5221\"]"
   ]
  },
  {
   "cell_type": "code",
   "execution_count": 37,
   "metadata": {
    "_uuid": "3d0f0e7ecaa042fb26a57e7741ce795a0f8a006b"
   },
   "outputs": [
    {
     "name": "stdout",
     "output_type": "stream",
     "text": [
      "Elapsed time: 36.01\n"
     ]
    }
   ],
   "source": [
    "N_SAMPLES = 10000\n",
    "\n",
    "ratings = []\n",
    "chemistries = []\n",
    "prices = []\n",
    "\n",
    "start_time = now()\n",
    "\n",
    "for i in range(N_SAMPLES):\n",
    "    individual = initialise_individual(formation)\n",
    "    individual.fill(formation)\n",
    "    ratings.append(formation.get_rating())\n",
    "    chemistries.append(formation.get_chemistry())\n",
    "    prices.append(formation.get_price())\n",
    "    \n",
    "elapsed_time = now() - start_time\n",
    "\n",
    "print(\"Elapsed time: {0:0.2f}\".format(elapsed_time))"
   ]
  },
  {
   "cell_type": "code",
   "execution_count": 38,
   "metadata": {
    "_uuid": "e9802ea3043c9232cc81417f233934f421477168"
   },
   "outputs": [
    {
     "data": {
      "image/png": "[encoded data removed]",
      "text/plain": [
       "<Figure size 1152x864 with 3 Axes>"
      ]
     },
     "metadata": {},
     "output_type": "display_data"
    }
   ],
   "source": [
    "plt.style.use('seaborn-whitegrid')\n",
    "\n",
    "fig, axs = plt.subplots(3, 1, figsize=(16, 12))\n",
    "\n",
    "for ax, data, title in zip(axs, [ratings, chemistries, prices], [\"Rating\", \"Chemistry\", \"Price\"]):\n",
    "    ax.hist(data)\n",
    "    ax.set_title(label=title)    \n",
    "    \n",
    "fig.tight_layout()\n",
    "plt.show()"
   ]
  },
  {
   "cell_type": "code",
   "execution_count": 39,
   "metadata": {
    "_uuid": "6e8ecfdefd4d8920738c948d9b5070aa6ead7012"
   },
   "outputs": [],
   "source": [
    "rating_mean = np.mean(ratings)\n",
    "rating_std = np.std(ratings)\n",
    "\n",
    "chemistry_mean = np.mean(chemistries)\n",
    "chemistry_std = np.std(chemistries)\n",
    "\n",
    "price_mean = np.mean(prices)\n",
    "price_std = np.std(prices)"
   ]
  },
  {
   "cell_type": "code",
   "execution_count": 40,
   "metadata": {
    "_uuid": "e3a7f3a60a17a11008fa98f23444613faca606b5"
   },
   "outputs": [
    {
     "name": "stdout",
     "output_type": "stream",
     "text": [
      "RATING: mean=744.69, std=24.84\n",
      "CHEMISTRY: mean=32.45, std=4.73\n",
      "PRICE: mean=133813.39, std=367373.38\n"
     ]
    }
   ],
   "source": [
    "print(\"RATING: mean={0:.2f}, std={1:.2f}\".format(rating_mean, rating_std))\n",
    "print(\"CHEMISTRY: mean={0:.2f}, std={1:.2f}\".format(chemistry_mean, chemistry_std))\n",
    "print(\"PRICE: mean={0:.2f}, std={1:.2f}\".format(price_mean, price_std))"
   ]
  },
  {
   "cell_type": "code",
   "execution_count": 41,
   "metadata": {
    "_uuid": "0fde99959865c67594de0c87c632953a336c7914"
   },
   "outputs": [],
   "source": [
    "def loss(formation):\n",
    "    players = [s.player for s in formation.slots.values()]\n",
    "    rating = (formation.get_rating() - rating_mean) / rating_std # normalised rating.\n",
    "    chemistry = (formation.get_chemistry() - chemistry_mean) / chemistry_std # normalised chemistry.\n",
    "    price = -(formation.get_price() - price_mean) / price_std # negative, normalised price.\n",
    "    return RATING_WEIGHT * rating + CHEMISTRY_WEIGHT * chemistry + PRICE_WEIGHT * price"
   ]
  },
  {
   "cell_type": "code",
   "execution_count": 43,
   "metadata": {
    "_uuid": "a18883aa495513e6300acfb065058bee31adda75",
    "scrolled": false
   },
   "outputs": [
    {
     "name": "stdout",
     "output_type": "stream",
     "text": [
      "TURN 0\n",
      "PLAYERS:\n",
      "\tGK: Player(id=5279, name=Randolph, overall=71, position=GK, price=2100, nationality=Republic of Ireland, league=EFL Championship, club=Middlesbrough)\n",
      "\tLWB: Player(id=13899, name=Pité, overall=65, position=LB, price=400, nationality=Portugal, league=Liga NOS, club=Tondela)\n",
      "\tCB1: Player(id=7007, name=Nuno Tomás, overall=68, position=CB, price=800, nationality=Portugal, league=Liga NOS, club=CF Os Belenenses)\n",
      "\tCB2: Player(id=5433, name=Laifis, overall=74, position=CB, price=500, nationality=Cyprus, league=Belgium Pro League, club=Standard de Liège)\n",
      "\tCB3: Player(id=16544, name=Stearman, overall=69, position=CB, price=700, nationality=England, league=EFL Championship, club=Sheffield United)\n",
      "\tRWB: Player(id=2274, name=Diogo Figueiras, overall=74, position=RB, price=2100, nationality=Portugal, league=Liga NOS, club=SC Braga)\n",
      "\tCM1: Player(id=1160, name=Fejsa, overall=83, position=CDM, price=9700, nationality=Serbia, league=Liga NOS, club=SL Benfica)\n",
      "\tCM2: Player(id=9671, name=Ramaré, overall=70, position=CDM, price=300, nationality=France, league=Domino’s Ligue 2, club=Valenciennes FC)\n",
      "\tLW: Player(id=12307, name=Rep, overall=65, position=LM, price=400, nationality=Slovenia, league=Österreichische Fußball-Bundesliga, club=TSV Hartberg)\n",
      "\tST: Player(id=13694, name=Darfalou, overall=69, position=ST, price=250, nationality=Algeria, league=Eredivisie, club=Vitesse)\n",
      "\tRW: Player(id=729, name=José Callejón, overall=84, position=RW, price=5100, nationality=Spain, league=Serie A TIM, club=Napoli)\n",
      "FITNESS: 2.77\n",
      "RATING: 792\n",
      "CHEMISTRY: 43\n",
      "PRICE: 22350\n",
      "\n",
      "TURN 100\n",
      "PLAYERS:\n",
      "\tGK: Player(id=853, name=Buffon, overall=88, position=GK, price=28750, nationality=Italy, league=Ligue 1 Conforama, club=Paris Saint-Germain)\n",
      "\tLWB: Player(id=573, name=Nacho Monreal, overall=80, position=LB, price=1200, nationality=Spain, league=Premier League, club=Arsenal)\n",
      "\tCB1: Player(id=864, name=Kimpembe, overall=83, position=CB, price=15250, nationality=France, league=Ligue 1 Conforama, club=Paris Saint-Germain)\n",
      "\tCB2: Player(id=852, name=Thiago Silva, overall=88, position=CB, price=48000, nationality=Brazil, league=Ligue 1 Conforama, club=Paris Saint-Germain)\n",
      "\tCB3: Player(id=157, name=Bonucci, overall=86, position=CB, price=17750, nationality=Italy, league=Serie A TIM, club=Juventus)\n",
      "\tRWB: Player(id=3724, name=João Cancelo, overall=84, position=RB, price=85000, nationality=Portugal, league=Serie A TIM, club=Juventus)\n",
      "\tCM1: Player(id=247, name=Matic, overall=86, position=CDM, price=22500, nationality=Serbia, league=Premier League, club=Manchester United)\n",
      "\tCM2: Player(id=478, name=Lallana, overall=82, position=CM, price=14000, nationality=England, league=Premier League, club=Liverpool)\n",
      "\tLW: Player(id=4050, name=Xhaka, overall=84, position=CDM, price=16500, nationality=Switzerland, league=Premier League, club=Arsenal)\n",
      "\tST: Player(id=486, name=Sturridge, overall=81, position=ST, price=15000, nationality=England, league=Premier League, club=Liverpool)\n",
      "\tRW: Player(id=643, name=Walcott, overall=79, position=RM, price=900, nationality=England, league=Premier League, club=Everton)\n",
      "FITNESS: 9.46\n",
      "RATING: 921\n",
      "CHEMISTRY: 84\n",
      "PRICE: 264850\n",
      "\n",
      "TURN 200\n",
      "PLAYERS:\n",
      "\tGK: Player(id=853, name=Buffon, overall=88, position=GK, price=28750, nationality=Italy, league=Ligue 1 Conforama, club=Paris Saint-Germain)\n",
      "\tLWB: Player(id=325, name=Delph, overall=80, position=LB, price=1300, nationality=England, league=Premier League, club=Manchester City)\n",
      "\tCB1: Player(id=864, name=Kimpembe, overall=83, position=CB, price=15250, nationality=France, league=Ligue 1 Conforama, club=Paris Saint-Germain)\n",
      "\tCB2: Player(id=852, name=Thiago Silva, overall=88, position=CB, price=48000, nationality=Brazil, league=Ligue 1 Conforama, club=Paris Saint-Germain)\n",
      "\tCB3: Player(id=157, name=Bonucci, overall=86, position=CB, price=17750, nationality=Italy, league=Serie A TIM, club=Juventus)\n",
      "\tRWB: Player(id=177, name=João Cancelo, overall=81, position=RB, price=31500, nationality=Portugal, league=Serie A TIM, club=Juventus)\n",
      "\tCM1: Player(id=478, name=Lallana, overall=82, position=CM, price=14000, nationality=England, league=Premier League, club=Liverpool)\n",
      "\tCM2: Player(id=563, name=Özil, overall=86, position=CAM, price=12500, nationality=Germany, league=Premier League, club=Arsenal)\n",
      "\tLW: Player(id=254, name=Martial, overall=83, position=LW, price=47750, nationality=France, league=Premier League, club=Manchester United)\n",
      "\tST: Player(id=494, name=Sturridge, overall=80, position=ST, price=1000, nationality=England, league=Premier League, club=Liverpool)\n",
      "\tRW: Player(id=311, name=Bernardo Silva, overall=85, position=RW, price=19000, nationality=Portugal, league=Premier League, club=Manchester City)\n",
      "FITNESS: 9.95\n",
      "RATING: 922\n",
      "CHEMISTRY: 91\n",
      "PRICE: 236800\n",
      "\n",
      "TURN 300\n",
      "PLAYERS:\n",
      "\tGK: Player(id=853, name=Buffon, overall=88, position=GK, price=28750, nationality=Italy, league=Ligue 1 Conforama, club=Paris Saint-Germain)\n",
      "\tLWB: Player(id=325, name=Delph, overall=80, position=LB, price=1300, nationality=England, league=Premier League, club=Manchester City)\n",
      "\tCB1: Player(id=864, name=Kimpembe, overall=83, position=CB, price=15250, nationality=France, league=Ligue 1 Conforama, club=Paris Saint-Germain)\n",
      "\tCB2: Player(id=852, name=Thiago Silva, overall=88, position=CB, price=48000, nationality=Brazil, league=Ligue 1 Conforama, club=Paris Saint-Germain)\n",
      "\tCB3: Player(id=157, name=Bonucci, overall=86, position=CB, price=17750, nationality=Italy, league=Serie A TIM, club=Juventus)\n",
      "\tRWB: Player(id=177, name=João Cancelo, overall=81, position=RB, price=31500, nationality=Portugal, league=Serie A TIM, club=Juventus)\n",
      "\tCM1: Player(id=478, name=Lallana, overall=82, position=CM, price=14000, nationality=England, league=Premier League, club=Liverpool)\n",
      "\tCM2: Player(id=563, name=Özil, overall=86, position=CAM, price=12500, nationality=Germany, league=Premier League, club=Arsenal)\n",
      "\tLW: Player(id=254, name=Martial, overall=83, position=LW, price=47750, nationality=France, league=Premier League, club=Manchester United)\n",
      "\tST: Player(id=494, name=Sturridge, overall=80, position=ST, price=1000, nationality=England, league=Premier League, club=Liverpool)\n",
      "\tRW: Player(id=311, name=Bernardo Silva, overall=85, position=RW, price=19000, nationality=Portugal, league=Premier League, club=Manchester City)\n",
      "FITNESS: 9.95\n",
      "RATING: 922\n",
      "CHEMISTRY: 91\n",
      "PRICE: 236800\n",
      "\n",
      "TURN 400\n",
      "PLAYERS:\n",
      "\tGK: Player(id=853, name=Buffon, overall=88, position=GK, price=28750, nationality=Italy, league=Ligue 1 Conforama, club=Paris Saint-Germain)\n",
      "\tLWB: Player(id=325, name=Delph, overall=80, position=LB, price=1300, nationality=England, league=Premier League, club=Manchester City)\n",
      "\tCB1: Player(id=864, name=Kimpembe, overall=83, position=CB, price=15250, nationality=France, league=Ligue 1 Conforama, club=Paris Saint-Germain)\n",
      "\tCB2: Player(id=852, name=Thiago Silva, overall=88, position=CB, price=48000, nationality=Brazil, league=Ligue 1 Conforama, club=Paris Saint-Germain)\n",
      "\tCB3: Player(id=157, name=Bonucci, overall=86, position=CB, price=17750, nationality=Italy, league=Serie A TIM, club=Juventus)\n",
      "\tRWB: Player(id=177, name=João Cancelo, overall=81, position=RB, price=31500, nationality=Portugal, league=Serie A TIM, club=Juventus)\n",
      "\tCM1: Player(id=478, name=Lallana, overall=82, position=CM, price=14000, nationality=England, league=Premier League, club=Liverpool)\n",
      "\tCM2: Player(id=563, name=Özil, overall=86, position=CAM, price=12500, nationality=Germany, league=Premier League, club=Arsenal)\n",
      "\tLW: Player(id=254, name=Martial, overall=83, position=LW, price=47750, nationality=France, league=Premier League, club=Manchester United)\n",
      "\tST: Player(id=494, name=Sturridge, overall=80, position=ST, price=1000, nationality=England, league=Premier League, club=Liverpool)\n",
      "\tRW: Player(id=311, name=Bernardo Silva, overall=85, position=RW, price=19000, nationality=Portugal, league=Premier League, club=Manchester City)\n",
      "FITNESS: 9.95\n",
      "RATING: 922\n",
      "CHEMISTRY: 91\n",
      "PRICE: 236800\n",
      "\n",
      "TURN 500\n",
      "PLAYERS:\n",
      "\tGK: Player(id=302, name=Ederson, overall=86, position=GK, price=28500, nationality=Brazil, league=Premier League, club=Manchester City)\n",
      "\tLWB: Player(id=3401, name=Aday Benítez, overall=75, position=LB, price=950, nationality=Spain, league=LaLiga Santander, club=Girona FC)\n",
      "\tCB1: Player(id=265, name=Rojo, overall=81, position=CB, price=8300, nationality=Argentina, league=Premier League, club=Manchester United)\n",
      "\tCB2: Player(id=306, name=Otamendi, overall=86, position=CB, price=12750, nationality=Argentina, league=Premier League, club=Manchester City)\n",
      "\tCB3: Player(id=13305, name=Vestergaard, overall=80, position=CB, price=800, nationality=Denmark, league=Premier League, club=Southampton)\n",
      "\tRWB: Player(id=1417, name=Ricardo Pereira, overall=81, position=RB, price=7000, nationality=Portugal, league=Premier League, club=Leicester City)\n",
      "\tCM1: Player(id=6419, name=Iniesta, overall=87, position=CM, price=11500, nationality=Spain, league=Meiji Yasuda J1 League, club=Vissel Kobe)\n",
      "\tCM2: Player(id=315, name=Gündogan, overall=84, position=CM, price=8100, nationality=Germany, league=Premier League, club=Manchester City)\n",
      "\tLW: Player(id=1048, name=Oyarzabal, overall=80, position=LW, price=1000, nationality=Spain, league=LaLiga Santander, club=Real Sociedad)\n",
      "\tST: Player(id=392, name=Morata, overall=83, position=ST, price=4400, nationality=Spain, league=Premier League, club=Chelsea)\n",
      "\tRW: Player(id=311, name=Bernardo Silva, overall=85, position=RW, price=19000, nationality=Portugal, league=Premier League, club=Manchester City)\n",
      "FITNESS: 9.96\n",
      "RATING: 908\n",
      "CHEMISTRY: 95\n",
      "PRICE: 102300\n",
      "\n",
      "TURN 600\n",
      "PLAYERS:\n",
      "\tGK: Player(id=302, name=Ederson, overall=86, position=GK, price=28500, nationality=Brazil, league=Premier League, club=Manchester City)\n",
      "\tLWB: Player(id=3401, name=Aday Benítez, overall=75, position=LB, price=950, nationality=Spain, league=LaLiga Santander, club=Girona FC)\n",
      "\tCB1: Player(id=265, name=Rojo, overall=81, position=CB, price=8300, nationality=Argentina, league=Premier League, club=Manchester United)\n",
      "\tCB2: Player(id=306, name=Otamendi, overall=86, position=CB, price=12750, nationality=Argentina, league=Premier League, club=Manchester City)\n",
      "\tCB3: Player(id=13305, name=Vestergaard, overall=80, position=CB, price=800, nationality=Denmark, league=Premier League, club=Southampton)\n",
      "\tRWB: Player(id=1417, name=Ricardo Pereira, overall=81, position=RB, price=7000, nationality=Portugal, league=Premier League, club=Leicester City)\n",
      "\tCM1: Player(id=6419, name=Iniesta, overall=87, position=CM, price=11500, nationality=Spain, league=Meiji Yasuda J1 League, club=Vissel Kobe)\n",
      "\tCM2: Player(id=315, name=Gündogan, overall=84, position=CM, price=8100, nationality=Germany, league=Premier League, club=Manchester City)\n",
      "\tLW: Player(id=1048, name=Oyarzabal, overall=80, position=LW, price=1000, nationality=Spain, league=LaLiga Santander, club=Real Sociedad)\n",
      "\tST: Player(id=392, name=Morata, overall=83, position=ST, price=4400, nationality=Spain, league=Premier League, club=Chelsea)\n",
      "\tRW: Player(id=311, name=Bernardo Silva, overall=85, position=RW, price=19000, nationality=Portugal, league=Premier League, club=Manchester City)\n",
      "FITNESS: 9.96\n",
      "RATING: 908\n",
      "CHEMISTRY: 95\n",
      "PRICE: 102300\n",
      "\n",
      "TURN 700\n",
      "PLAYERS:\n",
      "\tGK: Player(id=302, name=Ederson, overall=86, position=GK, price=28500, nationality=Brazil, league=Premier League, club=Manchester City)\n",
      "\tLWB: Player(id=3401, name=Aday Benítez, overall=75, position=LB, price=950, nationality=Spain, league=LaLiga Santander, club=Girona FC)\n",
      "\tCB1: Player(id=265, name=Rojo, overall=81, position=CB, price=8300, nationality=Argentina, league=Premier League, club=Manchester United)\n",
      "\tCB2: Player(id=306, name=Otamendi, overall=86, position=CB, price=12750, nationality=Argentina, league=Premier League, club=Manchester City)\n",
      "\tCB3: Player(id=13305, name=Vestergaard, overall=80, position=CB, price=800, nationality=Denmark, league=Premier League, club=Southampton)\n",
      "\tRWB: Player(id=1417, name=Ricardo Pereira, overall=81, position=RB, price=7000, nationality=Portugal, league=Premier League, club=Leicester City)\n",
      "\tCM1: Player(id=6419, name=Iniesta, overall=87, position=CM, price=11500, nationality=Spain, league=Meiji Yasuda J1 League, club=Vissel Kobe)\n",
      "\tCM2: Player(id=315, name=Gündogan, overall=84, position=CM, price=8100, nationality=Germany, league=Premier League, club=Manchester City)\n",
      "\tLW: Player(id=1048, name=Oyarzabal, overall=80, position=LW, price=1000, nationality=Spain, league=LaLiga Santander, club=Real Sociedad)\n",
      "\tST: Player(id=392, name=Morata, overall=83, position=ST, price=4400, nationality=Spain, league=Premier League, club=Chelsea)\n",
      "\tRW: Player(id=311, name=Bernardo Silva, overall=85, position=RW, price=19000, nationality=Portugal, league=Premier League, club=Manchester City)\n",
      "FITNESS: 9.96\n",
      "RATING: 908\n",
      "CHEMISTRY: 95\n",
      "PRICE: 102300\n",
      "\n",
      "TURN 800\n",
      "PLAYERS:\n",
      "\tGK: Player(id=302, name=Ederson, overall=86, position=GK, price=28500, nationality=Brazil, league=Premier League, club=Manchester City)\n",
      "\tLWB: Player(id=3401, name=Aday Benítez, overall=75, position=LB, price=950, nationality=Spain, league=LaLiga Santander, club=Girona FC)\n",
      "\tCB1: Player(id=265, name=Rojo, overall=81, position=CB, price=8300, nationality=Argentina, league=Premier League, club=Manchester United)\n",
      "\tCB2: Player(id=306, name=Otamendi, overall=86, position=CB, price=12750, nationality=Argentina, league=Premier League, club=Manchester City)\n",
      "\tCB3: Player(id=13305, name=Vestergaard, overall=80, position=CB, price=800, nationality=Denmark, league=Premier League, club=Southampton)\n",
      "\tRWB: Player(id=1417, name=Ricardo Pereira, overall=81, position=RB, price=7000, nationality=Portugal, league=Premier League, club=Leicester City)\n",
      "\tCM1: Player(id=6419, name=Iniesta, overall=87, position=CM, price=11500, nationality=Spain, league=Meiji Yasuda J1 League, club=Vissel Kobe)\n",
      "\tCM2: Player(id=315, name=Gündogan, overall=84, position=CM, price=8100, nationality=Germany, league=Premier League, club=Manchester City)\n",
      "\tLW: Player(id=1048, name=Oyarzabal, overall=80, position=LW, price=1000, nationality=Spain, league=LaLiga Santander, club=Real Sociedad)\n",
      "\tST: Player(id=392, name=Morata, overall=83, position=ST, price=4400, nationality=Spain, league=Premier League, club=Chelsea)\n",
      "\tRW: Player(id=311, name=Bernardo Silva, overall=85, position=RW, price=19000, nationality=Portugal, league=Premier League, club=Manchester City)\n",
      "FITNESS: 9.96\n",
      "RATING: 908\n",
      "CHEMISTRY: 95\n",
      "PRICE: 102300\n",
      "\n",
      "TURN 900\n",
      "PLAYERS:\n",
      "\tGK: Player(id=239, name=De Gea, overall=91, position=GK, price=155000, nationality=Spain, league=Premier League, club=Manchester United)\n",
      "\tLWB: Player(id=395, name=Marcos Alonso, overall=82, position=LB, price=7600, nationality=Spain, league=Premier League, club=Chelsea)\n",
      "\tCB1: Player(id=522, name=Alderweireld, overall=85, position=CB, price=16500, nationality=Belgium, league=Premier League, club=Tottenham Hotspur)\n",
      "\tCB2: Player(id=387, name=Azpilicueta, overall=86, position=CB, price=50000, nationality=Spain, league=Premier League, club=Chelsea)\n",
      "\tCB3: Player(id=266, name=Smalling, overall=81, position=CB, price=1700, nationality=England, league=Premier League, club=Manchester United)\n",
      "\tRWB: Player(id=13308, name=Héctor Bellerín, overall=80, position=RB, price=5800, nationality=Spain, league=Premier League, club=Arsenal)\n",
      "\tCM1: Player(id=6419, name=Iniesta, overall=87, position=CM, price=11500, nationality=Spain, league=Meiji Yasuda J1 League, club=Vissel Kobe)\n",
      "\tCM2: Player(id=1045, name=Illarramendi, overall=84, position=CM, price=2500, nationality=Spain, league=LaLiga Santander, club=Real Sociedad)\n",
      "\tLW: Player(id=3392, name=Borja García, overall=79, position=LM, price=1000, nationality=Spain, league=LaLiga Santander, club=Girona FC)\n",
      "\tST: Player(id=1747, name=Rodrigo, overall=84, position=ST, price=18000, nationality=Spain, league=LaLiga Santander, club=Valencia CF)\n",
      "\tRW: Player(id=256, name=Juan Mata, overall=83, position=RM, price=2000, nationality=Spain, league=Premier League, club=Manchester United)\n",
      "FITNESS: 10.12\n",
      "RATING: 922\n",
      "CHEMISTRY: 96\n",
      "PRICE: 271600\n",
      "\n",
      "FINAL CHAMPION\n",
      "PLAYERS:\n",
      "\tGK: Player(id=239, name=De Gea, overall=91, position=GK, price=155000, nationality=Spain, league=Premier League, club=Manchester United)\n",
      "\tLWB: Player(id=395, name=Marcos Alonso, overall=82, position=LB, price=7600, nationality=Spain, league=Premier League, club=Chelsea)\n",
      "\tCB1: Player(id=355, name=Piqué, overall=87, position=CB, price=18250, nationality=Spain, league=LaLiga Santander, club=FC Barcelona)\n",
      "\tCB2: Player(id=387, name=Azpilicueta, overall=86, position=CB, price=50000, nationality=Spain, league=Premier League, club=Chelsea)\n",
      "\tCB3: Player(id=264, name=Jones, overall=81, position=CB, price=5000, nationality=England, league=Premier League, club=Manchester United)\n",
      "\tRWB: Player(id=13308, name=Héctor Bellerín, overall=80, position=RB, price=5800, nationality=Spain, league=Premier League, club=Arsenal)\n",
      "\tCM1: Player(id=6419, name=Iniesta, overall=87, position=CM, price=11500, nationality=Spain, league=Meiji Yasuda J1 League, club=Vissel Kobe)\n",
      "\tCM2: Player(id=1045, name=Illarramendi, overall=84, position=CM, price=2500, nationality=Spain, league=LaLiga Santander, club=Real Sociedad)\n",
      "\tLW: Player(id=3392, name=Borja García, overall=79, position=LM, price=1000, nationality=Spain, league=LaLiga Santander, club=Girona FC)\n",
      "\tST: Player(id=392, name=Morata, overall=83, position=ST, price=4400, nationality=Spain, league=Premier League, club=Chelsea)\n",
      "\tRW: Player(id=618, name=Lucas Vázquez, overall=83, position=RW, price=1500, nationality=Spain, league=LaLiga Santander, club=Real Madrid)\n",
      "FITNESS: 10.24\n",
      "RATING: 923\n",
      "CHEMISTRY: 97\n",
      "PRICE: 262550\n"
     ]
    }
   ],
   "source": [
    "fitness_log = []\n",
    "rating_log = []\n",
    "chemistry_log = []\n",
    "price_log = []\n",
    "champion_log = []\n",
    "\n",
    "N_INDIVIDUALS = 100\n",
    "N_GENERATIONS = 1000\n",
    "\n",
    "REPLACE_MUTATION_PROBABILITY = 0.75\n",
    "SWAP_MUTATION_PROBABILITY = 0.2\n",
    "SWITCH_MUTATION_PROBABILITY = 0.05\n",
    "CROSSOVER_PROBABILITY = 0.05\n",
    "\n",
    "RATING_WEIGHT = 1\n",
    "CHEMISTRY_WEIGHT = 0.25\n",
    "PRICE_WEIGHT = 1\n",
    "\n",
    "champion = None\n",
    "population = [initialise_individual(formation) for _ in range(N_INDIVIDUALS)]\n",
    "for individual in population:\n",
    "    individual.evaluate(formation)\n",
    "\n",
    "for i in range(N_GENERATIONS):\n",
    "    population = select_individuals(population)\n",
    "    for j in range(int(len(population)/2)):\n",
    "        individuals = population[2*j:2*j+2]\n",
    "        if np.random.uniform() < CROSSOVER_PROBABILITY:\n",
    "            crossover_individuals(*individuals, formation)\n",
    "        for individual in individuals:\n",
    "            mutate_individual(individual, REPLACE_MUTATION_PROBABILITY, SWAP_MUTATION_PROBABILITY, SWITCH_MUTATION_PROBABILITY)\n",
    "            individual.evaluate(formation)\n",
    "    challenger = population[np.argmax(population)]\n",
    "    if not champion or challenger > champion:\n",
    "        champion = challenger\n",
    "        champion_log.append(champion)\n",
    "    champion.fill(formation)\n",
    "    fitness_log.append(champion.fitness)\n",
    "    rating_log.append(formation.get_rating())\n",
    "    chemistry_log.append(formation.get_chemistry())\n",
    "    price_log.append(formation.get_price())\n",
    "    if i % 100 == 0:\n",
    "        print(\"TURN {}\".format(i))\n",
    "        print(\"PLAYERS:\")\n",
    "        for k, v in champion.player_map.items():\n",
    "            print(\"\\t{}: {}\".format(k, v))\n",
    "        print(\"FITNESS: {0:.2f}\".format(champion.fitness))\n",
    "        print(\"RATING: {}\".format(formation.get_rating()))\n",
    "        print(\"CHEMISTRY: {}\".format(formation.get_chemistry()))\n",
    "        print(\"PRICE: {}\".format(int(formation.get_price())))\n",
    "        print(\"\")\n",
    "        \n",
    "print(\"FINAL CHAMPION\")\n",
    "print(\"PLAYERS:\")\n",
    "for k, v in champion.player_map.items():\n",
    "    print(\"\\t{}: {}\".format(k, v))\n",
    "print(\"FITNESS: {0:.2f}\".format(champion.fitness))\n",
    "print(\"RATING: {}\".format(formation.get_rating()))\n",
    "print(\"CHEMISTRY: {}\".format(formation.get_chemistry()))\n",
    "\n",
    "\n",
    "print(\"PRICE: {}\".format(int(formation.get_price())))"
   ]
  },
  {
   "cell_type": "code",
   "execution_count": 45,
   "metadata": {},
   "outputs": [
    {
     "data": {
      "text/plain": [
       "33"
      ]
     },
     "execution_count": 45,
     "metadata": {},
     "output_type": "execute_result"
    }
   ],
   "source": [
    "len(champion_log)"
   ]
  },
  {
   "cell_type": "code",
   "execution_count": 48,
   "metadata": {},
   "outputs": [],
   "source": [
    "with open(\"../input/champion_log.p\", \"wb\") as f:\n",
    "    pickle.dump(champion_log, f)"
   ]
  },
  {
   "cell_type": "code",
   "execution_count": 65,
   "metadata": {
    "_uuid": "e30fea54cd63692c91dc23dbfd7b502583093625"
   },
   "outputs": [
    {
     "data": {
      "image/png": "[encoded data removed]",
      "text/plain": [
       "<Figure size 1152x864 with 4 Axes>"
      ]
     },
     "metadata": {},
     "output_type": "display_data"
    }
   ],
   "source": [
    "x = np.arange(0, N_GENERATIONS)\n",
    "fig, axs = plt.subplots(4, 1, figsize=(16, 12))\n",
    "\n",
    "for ax, data, title in zip(axs, [fitness_log, rating_log, chemistry_log, price_log], [\"Fitness\", \"Rating\", \"Chemistry\", \"Price\"]):\n",
    "    ax.plot(x, data, linewidth=3, color=cmap(1.))\n",
    "    ax.set_title(label=title)\n",
    "    ax.set_xlabel(\"Generation\")    \n",
    "    \n",
    "fig.tight_layout()\n",
    "\n",
    "plt.savefig(\"../images/fitness_curve.png\", dpi=120)"
   ]
  }
 ],
 "metadata": {
  "kernelspec": {
   "display_name": "Python 3",
   "language": "python",
   "name": "python3"
  },
  "language_info": {
   "codemirror_mode": {
    "name": "ipython",
    "version": 3
   },
   "file_extension": ".py",
   "mimetype": "text/x-python",
   "name": "python",
   "nbconvert_exporter": "python",
   "pygments_lexer": "ipython3",
   "version": "3.6.5"
  }
 },
 "nbformat": 4,
 "nbformat_minor": 2
}
